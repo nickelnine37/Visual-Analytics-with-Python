{
 "cells": [
  {
   "cell_type": "markdown",
   "metadata": {},
   "source": [
    "# 4. Working with Data in Python\n",
    "\n",
    "![](images/logo.png)\n",
    "\n",
    "Welcome to the third lab session!\n",
    "\n",
    "This lab includes some exercises about the material covered in session 4 concerning files and pandas. \n",
    "\n",
    "> **NOTE**: If your are running this lab on your own machine (i.e. not on our JupyterHub server), you need to make sure Pandas has already been installed. To check whether you have installed Pandas try running the cell below: "
   ]
  },
  {
   "cell_type": "code",
   "execution_count": null,
   "metadata": {},
   "outputs": [],
   "source": [
    "import pandas as pd"
   ]
  },
  {
   "cell_type": "markdown",
   "metadata": {},
   "source": [
    "If nothing much happens then you're good to go. However, if you get an `ImportError`, this means pandas has not been installed. To install pandas, open your command prompt and type \n",
    "\n",
    "```\n",
    "pip install pandas\n",
    "```\n",
    "\n",
    "and hit enter. Once the install has finished, you should be good to go. Come back and retry running the cell above. \n",
    "\n",
    "With that done, let's jump in!\n",
    "\n",
    "\n",
    "\n",
    "# Exercise 1: Reading in `.txt` files\n",
    "\n",
    "## a) `with` statements\n",
    "\n",
    "If you change tab to the Jupyter file explorer, you'll notice a folder named `dreams`. If you take a look inside, you'll see 5 files called `dream1.txt`, `dream2.txt` ... , `dream5.txt`. These are short write-ups of dreams people have had, taken from the website [DreamBank](http://www.dreambank.net/), which has a collection of over 20,000 dreams recorded from many different people. \n",
    "\n",
    "Each file is made up of 3 lines. The first gives the name of the dreamer, the second gives a date, and the third has the dream content. \n",
    "\n",
    "Below is some code that reads in `dream1.txt`. \n",
    "\n",
    "In the cell below that, rewrite the code so that it does the exact same thing, but uses the `with` statement. "
   ]
  },
  {
   "cell_type": "code",
   "execution_count": null,
   "metadata": {},
   "outputs": [],
   "source": [
    "text_file = open('dreams/dream1.txt')\n",
    "\n",
    "contents = text_file.read()\n",
    "\n",
    "print(contents)\n",
    "\n",
    "text_file.close()"
   ]
  },
  {
   "cell_type": "code",
   "execution_count": null,
   "metadata": {},
   "outputs": [],
   "source": [
    "# your code here"
   ]
  },
  {
   "cell_type": "markdown",
   "metadata": {},
   "source": [
    "## b) `readlines`\n",
    "\n",
    "Copy and paste your code from above. Replace `.read()` with `.readlines()`. This will create a list, where each element is a new line.\n",
    "\n",
    "Remember, sometimes it may look like text is going over multiple lines when really it's on just one. \n",
    "\n",
    "Using list indexing, select the 3rd element from this list (remember, list indexing starts from 0) so that you extract only the text, not the name or date. Print this text. "
   ]
  },
  {
   "cell_type": "code",
   "execution_count": null,
   "metadata": {},
   "outputs": [],
   "source": [
    "# your code here"
   ]
  },
  {
   "cell_type": "markdown",
   "metadata": {},
   "source": [
    "## c) Extracting the text from multiple files\n",
    "\n",
    "Complete the code below to print the text from all five files. "
   ]
  },
  {
   "cell_type": "code",
   "execution_count": null,
   "metadata": {},
   "outputs": [],
   "source": [
    "import os\n",
    "\n",
    "for file_name in os.listdir('dreams'):\n",
    "     \n",
    "    path = 'dreams/' + file_name\n",
    "    \n",
    "    print(path)"
   ]
  },
  {
   "cell_type": "markdown",
   "metadata": {},
   "source": [
    "# Exercise 2: Writing files\n",
    "\n",
    "Below you will see a function being imported from a file called `random_sentence.py`. (This is another use of `import` - to bring in functions written in external files). Try running the function `generate_random_sentence()` a few times to see what it does. "
   ]
  },
  {
   "cell_type": "code",
   "execution_count": null,
   "metadata": {},
   "outputs": [],
   "source": [
    "from random_sentence import generate_random_sentence\n",
    "\n",
    "random_sentence = generate_random_sentence()\n",
    "\n",
    "print(random_sentence)"
   ]
  },
  {
   "cell_type": "markdown",
   "metadata": {},
   "source": [
    "## a) Writing many lines 1\n",
    "\n",
    "By using the function `generate_random_sentence()`, complete the code below to write 100 random sentences to a file called `random_sentences1.txt`, using the `.write()` function. Check this has worked by opening the file in the Jupyter launcher.\n",
    "\n",
    "Remember to use the `\\n` character to signify a new line. "
   ]
  },
  {
   "cell_type": "code",
   "execution_count": null,
   "metadata": {},
   "outputs": [],
   "source": [
    "n_sentences = 100\n",
    "\n",
    "with open('random_sentences1.txt', 'w') as my_file:\n",
    "    \n",
    "    for i in range(n_sentences):\n",
    "        \n",
    "        # your code here"
   ]
  },
  {
   "cell_type": "markdown",
   "metadata": {},
   "source": [
    "## a) Writing many lines 2\n",
    "\n",
    "Do the same thing again, but this time use a list of sentences with the `.writelines()` function. \n"
   ]
  },
  {
   "cell_type": "code",
   "execution_count": null,
   "metadata": {},
   "outputs": [],
   "source": [
    "n_sentences = 100\n",
    "\n",
    "lines = []\n",
    "\n",
    "for i in range(n_sentences):\n",
    "    \n",
    "    lines.append(generate_random_sentence() + '\\n')\n",
    "    \n",
    "print(lines)\n",
    "\n",
    "# your code here"
   ]
  },
  {
   "cell_type": "markdown",
   "metadata": {},
   "source": [
    "# Exercise 3: Pandas\n",
    "\n",
    "## a) Creating a DataFrame from a list of lists\n",
    "\n",
    "Use the following data to create a pandas DataFrame. Store it in a variable called `df`. "
   ]
  },
  {
   "cell_type": "code",
   "execution_count": null,
   "metadata": {},
   "outputs": [],
   "source": [
    "import pandas as pd\n",
    "\n",
    "\n",
    "column_names = ['name', 'calories', 'protein', 'fat', 'sodium', 'fiber']\n",
    "\n",
    "data = [['100% Bran', 70, 4, 1, 130, 10],\n",
    "        ['100% Natural Bran', 120, 3, 5, 15, 2],\n",
    "        ['All-Bran', 70,  4, 1, 260, 9],\n",
    "        ['All-Bran with Extra Fiber', 50,  4, 0, 140, 14],\n",
    "        ['Almond Delight', 110, 2, 2, 200, 1]]\n",
    "\n",
    "# your code here\n"
   ]
  },
  {
   "cell_type": "markdown",
   "metadata": {},
   "source": [
    "## b) Column information\n",
    "\n",
    "Use the function `df.mean()` to find the mean of each column. Do the same for `.min()` and `.max()`. \n"
   ]
  },
  {
   "cell_type": "code",
   "execution_count": null,
   "metadata": {},
   "outputs": [],
   "source": [
    "# your code here\n"
   ]
  },
  {
   "cell_type": "code",
   "execution_count": null,
   "metadata": {},
   "outputs": [],
   "source": [
    "# your code \n"
   ]
  },
  {
   "cell_type": "code",
   "execution_count": null,
   "metadata": {},
   "outputs": [],
   "source": [
    "# your code here\n"
   ]
  },
  {
   "cell_type": "markdown",
   "metadata": {},
   "source": [
    "## c) Loading data from a csv file\n",
    "\n",
    "Below is some code that opens the full dataset from a file. Edit it so that the `'name'` column becomes the index column. \n"
   ]
  },
  {
   "cell_type": "code",
   "execution_count": null,
   "metadata": {},
   "outputs": [],
   "source": [
    "df = pd.read_csv('cereal.csv')"
   ]
  },
  {
   "cell_type": "markdown",
   "metadata": {},
   "source": [
    "## d) Getting row information\n",
    "\n",
    "Use `.loc[]` to find out all information about `'Cheerios'`"
   ]
  },
  {
   "cell_type": "code",
   "execution_count": null,
   "metadata": {},
   "outputs": [],
   "source": [
    "# your code here"
   ]
  },
  {
   "cell_type": "markdown",
   "metadata": {},
   "source": [
    "## e) Adding a healthy or unhealthy label\n",
    "\n",
    "We are now going to add a new column called `'healthy'` which will contain the values `True` or `False` for each cereal type. If the calories are greater than 120 or the sugar is greater than 10, we will mark it as unhealthy. Otherwise we will mark it as healthy. \n",
    "\n",
    "The code below creates a list where each element is `True` or `False`, which specifies the health status of the corresponding cereal. Add this as a new column to the dataframe. "
   ]
  },
  {
   "cell_type": "code",
   "execution_count": null,
   "metadata": {},
   "outputs": [],
   "source": [
    "healthy = []\n",
    "\n",
    "for cereal in df.index:\n",
    "    \n",
    "    row = df.loc[cereal]\n",
    "    \n",
    "    if row['calories'] > 120 or row['sugars'] > 10:\n",
    "       \n",
    "        healthy.append(False)\n",
    "        \n",
    "    else:\n",
    "        \n",
    "        healthy.append(True)\n",
    "        \n",
    "print(healthy)"
   ]
  },
  {
   "cell_type": "code",
   "execution_count": null,
   "metadata": {},
   "outputs": [],
   "source": [
    "# your code here\n"
   ]
  }
 ],
 "metadata": {
  "kernelspec": {
   "display_name": "Python 3",
   "language": "python",
   "name": "python3"
  },
  "language_info": {
   "codemirror_mode": {
    "name": "ipython",
    "version": 3
   },
   "file_extension": ".py",
   "mimetype": "text/x-python",
   "name": "python",
   "nbconvert_exporter": "python",
   "pygments_lexer": "ipython3",
   "version": "3.7.3"
  }
 },
 "nbformat": 4,
 "nbformat_minor": 2
}
