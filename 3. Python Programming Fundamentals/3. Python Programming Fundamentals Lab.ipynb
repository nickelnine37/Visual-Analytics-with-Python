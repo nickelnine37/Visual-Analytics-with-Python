{
 "cells": [
  {
   "cell_type": "markdown",
   "metadata": {},
   "source": [
    "# 3. Python Programming Fundamentals\n",
    "\n",
    "![](images/logo.png)\n",
    "\n",
    "Welcome to lab 2!\n",
    "\n",
    "This lab includes some exercises about the material covered in session 3. For a reminder about how Jupyter works, check out the previous notebook. Otherwise, let's jump right in. \n",
    "\n",
    "\n",
    "\n",
    "# Exercise 1: Conditions\n",
    "\n",
    "Conditions are used when you only want some piece of code to run `if` a condition is true. \n",
    "\n",
    "## a) `if` statements\n",
    "\n",
    "Check out the code below"
   ]
  },
  {
   "cell_type": "code",
   "execution_count": null,
   "metadata": {},
   "outputs": [],
   "source": [
    "x = 20\n",
    "if x > 100:\n",
    "    print('Whoa, that is a big number')"
   ]
  },
  {
   "cell_type": "markdown",
   "metadata": {},
   "source": [
    "This can be represented as a flow chart as \n",
    "\n",
    "![](images/cond1.png)\n",
    "\n",
    "**Change that value of the variable `x` in this code so that it prints `'Whoa, that is a big number'`**"
   ]
  },
  {
   "cell_type": "markdown",
   "metadata": {},
   "source": [
    "## b) `if`-`else` statements\n",
    "\n",
    "Often, if the condition is not true, you'll want to run some alternative code. This is done with the `else` statement, together making an `if`-`else` statement. Take a look at the example below"
   ]
  },
  {
   "cell_type": "code",
   "execution_count": null,
   "metadata": {},
   "outputs": [],
   "source": [
    "x = 500\n",
    "if x > 100:\n",
    "    print('Impressive')\n",
    "else:\n",
    "    print('Disappointing')"
   ]
  },
  {
   "cell_type": "markdown",
   "metadata": {},
   "source": [
    "In flow chart notation, this is equivalent to \n",
    "\n",
    "![](images/cond2.png)\n",
    "\n",
    "**Copy and paste the code from above into the cell below. Edit it so that it does the following:**\n",
    "\n",
    "> If `x` is equal to `10`, print `whoa, x is EXACTLY 10`. Otherwise print `Ahh, x is not 10`. \n",
    "\n",
    "Or, in flow chart notation\n",
    "\n",
    "![](images/cond3.png)\n",
    "\n",
    "Hint: to see if two things are equal in a condition like this, use double equals sign `==`. "
   ]
  },
  {
   "cell_type": "code",
   "execution_count": null,
   "metadata": {},
   "outputs": [],
   "source": []
  },
  {
   "cell_type": "markdown",
   "metadata": {},
   "source": [
    "## c) Nested `if`-`else` statements\n",
    "\n",
    "Nested if statements are useful when you want to sort into more than two groups.  "
   ]
  },
  {
   "cell_type": "code",
   "execution_count": null,
   "metadata": {},
   "outputs": [],
   "source": [
    "x = 500\n",
    "\n",
    "if x > 100:\n",
    "    \n",
    "    if x > 1000:\n",
    "        print('Whoa')\n",
    "    else:\n",
    "        print('Still cool I guess')\n",
    "        \n",
    "else:\n",
    "    print('Lame')"
   ]
  },
  {
   "cell_type": "markdown",
   "metadata": {},
   "source": [
    "As a flowchat, this is\n",
    "\n",
    "![](images/cond4.png)\n",
    "\n",
    "\n",
    "\n",
    "**Copy and paste the code from above into the cell below, and then change the outer `else` statement to check whether the number is negative. Add print statements for these two outcomes.** Something like this\n",
    "\n",
    "![](images/cond5.png)\n",
    "\n",
    "\n",
    "\n",
    "Hint: Indentation becomes very important here. Each new logical block must be indented with four spaces or one tab. \n"
   ]
  },
  {
   "cell_type": "code",
   "execution_count": null,
   "metadata": {},
   "outputs": [],
   "source": []
  },
  {
   "cell_type": "markdown",
   "metadata": {},
   "source": [
    "## d) Example: working out the animal type\n",
    "\n",
    "\n",
    "Some programmers decide to make a web-app that can identify animal type based on some questions. To start, they try to find out whether it is a mammal, bird or fish based on the following two questions\n",
    "\n",
    "1. Does the animal breathe air?\n",
    "2. Does the animal lay eggs?\n",
    "\n",
    "which they take from the user. \n",
    "\n",
    "![](images/animal_cond1.png)\n",
    "\n",
    "\n",
    "## The `input` function \n",
    "\n",
    "\n",
    "In python, input can be taken from the user using a special function called `input`. \n",
    "\n",
    "Try running the cell below"
   ]
  },
  {
   "cell_type": "code",
   "execution_count": null,
   "metadata": {},
   "outputs": [],
   "source": [
    "name = input('Name?: ')"
   ]
  },
  {
   "cell_type": "markdown",
   "metadata": {},
   "source": [
    "When the function `input` is run, it prompts the user to type a response in, which is registered after hitting enter. The answer is automatically stored as a string, which can be assigned to a variable - here the answer gets stored in a variable called `name`. We can check what's inside `name` by printing it. "
   ]
  },
  {
   "cell_type": "code",
   "execution_count": null,
   "metadata": {},
   "outputs": [],
   "source": [
    "print(name)"
   ]
  },
  {
   "cell_type": "markdown",
   "metadata": {},
   "source": [
    "The text that you put inside the brackets of `input` just gives a message to the user when they give their answer. You can try changing the text in the code above to see the effect. \n",
    "\n",
    "## Back to animals\n",
    "\n",
    "Take a look at the code below. This takes answers to the animal qestions from the user and stores them in variables called `breathes_air` and `lays_eggs`. The answer, as typed in by the user, should be either \n",
    "\n",
    "```\n",
    "yes\n",
    "```\n",
    "\n",
    "or \n",
    "\n",
    "```\n",
    "no\n",
    "```\n",
    "\n",
    "all in lowercase. \n",
    "\n",
    "Based on this information, we can use nested `if`-`else` statements to work out what type of animal it is. \n",
    "\n",
    "Take a careful look at each line of the code below and then try running it for yourself. "
   ]
  },
  {
   "cell_type": "code",
   "execution_count": null,
   "metadata": {},
   "outputs": [],
   "source": [
    "breathes_air = input('Does the animal breathe air?: ')\n",
    "lays_eggs = input('Does the animal lay eggs?: ')\n",
    "\n",
    "if breathes_air == 'yes':\n",
    "    \n",
    "    if lays_eggs == 'yes':\n",
    "        print('The animal is a bird')\n",
    "        \n",
    "    else:\n",
    "        print('The animal is a mammal')\n",
    "    \n",
    "else:\n",
    "    print('The animal is a fish')"
   ]
  },
  {
   "cell_type": "markdown",
   "metadata": {},
   "source": [
    "The programmers want to add in a question to tell the difference between birds and reptiles, both of which breathe air and lay eggs.\n",
    "\n",
    "![](images/animal_cond2.png)\n",
    "\n",
    "**Copy and paste the code from above into the cell below. Add a new variable which takes input from the user in the same way. Design you own question to tell apart birds and reptiles and then use it to change the code so that the program can sort between these two animal types.**"
   ]
  },
  {
   "cell_type": "code",
   "execution_count": null,
   "metadata": {},
   "outputs": [],
   "source": []
  },
  {
   "cell_type": "markdown",
   "metadata": {},
   "source": [
    "# Exercise 2: `for` loops\n",
    "\n",
    "For loops allow us to go through each item in a list. Take a look at the code below"
   ]
  },
  {
   "cell_type": "code",
   "execution_count": null,
   "metadata": {},
   "outputs": [],
   "source": [
    "my_list = ['hi', 'hey', 'hello', 'good morning', 'good evening']\n",
    "\n",
    "for item in my_list:\n",
    "    print(item)"
   ]
  },
  {
   "cell_type": "markdown",
   "metadata": {},
   "source": [
    "note that it doesn't matter what name you give to the looping variable!"
   ]
  },
  {
   "cell_type": "code",
   "execution_count": null,
   "metadata": {},
   "outputs": [],
   "source": [
    "my_list = ['hi', 'hey', 'hello', 'good morning', 'good evening']\n",
    "\n",
    "for greeting in my_list:\n",
    "    print(greeting)"
   ]
  },
  {
   "cell_type": "markdown",
   "metadata": {},
   "source": [
    "## a) Make your own loop\n",
    "\n",
    "**Make your own list. It could contain anything: numbers, text, even another list. Make a for loop to go through each item and print it.**"
   ]
  },
  {
   "cell_type": "code",
   "execution_count": null,
   "metadata": {},
   "outputs": [],
   "source": []
  },
  {
   "cell_type": "markdown",
   "metadata": {},
   "source": [
    "## b) Adding all the numbers in a list\n",
    "\n",
    "In this question we have a list of numbers. The goal is to add all the numbers in the list using a for loop. We can do this by keeping a variable called `total`. On each iteration of the loop, we can add the contribution of the new number by saying \n",
    "\n",
    "```python\n",
    "total = total + number\n",
    "```\n",
    "\n",
    "where `number` is the looping variable. Remember: this means `total` will be assigned a value which is whatever it is currently, plus `number`: i.e. we add the new number to the total. **Use this information to complete the code below, to find the total sum of the list.**"
   ]
  },
  {
   "cell_type": "code",
   "execution_count": null,
   "metadata": {},
   "outputs": [],
   "source": [
    "numbers = [7, 9, 4, 3, 4, 4, 4, 5, 1, 2, 6, 6, 4, 7, 9, 7, 5, 1, 5, 7]\n",
    "\n",
    "total = 0\n",
    "\n",
    "for number in numbers:\n",
    "    # do something here"
   ]
  },
  {
   "cell_type": "markdown",
   "metadata": {},
   "source": [
    "## c) A shopping list\n",
    "\n",
    "In this exercise we have a shopping list. The price of each item is held in a list called `prices`. Make sure you run this cell, so that the variable is created. "
   ]
  },
  {
   "cell_type": "code",
   "execution_count": null,
   "metadata": {},
   "outputs": [],
   "source": [
    "prices = [0.4, 1.7, 0.85, 0.9, 0.49, 1.0, 0.77, 1.0, 2.5, 0.79, 0.95, 0.75, 2.65, 0.95, 1.05, 2.5, 0.35, 1.25]"
   ]
  },
  {
   "cell_type": "markdown",
   "metadata": {},
   "source": [
    "Check out the code below. The goal is to find the most expensive item in the list. "
   ]
  },
  {
   "cell_type": "code",
   "execution_count": null,
   "metadata": {},
   "outputs": [],
   "source": [
    "highest_price_seen = 0\n",
    "\n",
    "for price in prices:\n",
    "\n",
    "    if price > highest_price_seen:\n",
    "        highest_price_seen = price\n",
    "\n",
    "print('Highest price is: ', highest_price_seen)"
   ]
  },
  {
   "cell_type": "markdown",
   "metadata": {},
   "source": [
    "We keep track of a variable called `highest_price_seen` which starts at zero. As we go through the list, if the price is higher than the current value of this variable, we replace it with the new price seen. \n",
    "\n",
    "**Copy and paste this code into the cell below. Edit it so that it finds the lowest price.**"
   ]
  },
  {
   "cell_type": "code",
   "execution_count": null,
   "metadata": {},
   "outputs": [],
   "source": []
  },
  {
   "cell_type": "markdown",
   "metadata": {},
   "source": [
    "\n",
    "# Exercise 3: `while` loops\n",
    "\n",
    "\n",
    "We want to create a simple toy password app using a `while` loop. \n",
    "\n",
    "## a) Create a password and a secret\n",
    "\n",
    "**Create two variables, one called `password` and one called `secret`. Assign some *string* to each one** (this shouldn't be a real password you use! Just a fake one). The secret can be anything, e.g. `'I love pancakes'`. "
   ]
  },
  {
   "cell_type": "code",
   "execution_count": null,
   "metadata": {},
   "outputs": [],
   "source": [
    "password = \n",
    "secret = "
   ]
  },
  {
   "cell_type": "markdown",
   "metadata": {},
   "source": [
    "## b) Complete the condition\n",
    "\n",
    "**Replace `condition` in the code below with a valid check, so that the secret gets printed only when the password is correctly guessed by the user**\n",
    "\n",
    "Remember, the loop will keep going while the password is *wrong* and only exit when this is no longer true. \n"
   ]
  },
  {
   "cell_type": "code",
   "execution_count": null,
   "metadata": {},
   "outputs": [],
   "source": [
    "password_guess = ''\n",
    "\n",
    "while condition:\n",
    "    password_guess = input('Enter password: ')\n",
    "    \n",
    "print(secret)"
   ]
  },
  {
   "cell_type": "markdown",
   "metadata": {},
   "source": [
    "# Exercise 4: functions\n",
    "\n",
    "## a) Arguments\n",
    "\n",
    "Functions are a really important part of any programming language. Check out the example function below. "
   ]
  },
  {
   "cell_type": "code",
   "execution_count": null,
   "metadata": {},
   "outputs": [],
   "source": [
    "def say_hello(name):\n",
    "    return 'Hello, ' + name"
   ]
  },
  {
   "cell_type": "markdown",
   "metadata": {},
   "source": [
    "**Change the argument to the function so that it greets you**"
   ]
  },
  {
   "cell_type": "code",
   "execution_count": null,
   "metadata": {},
   "outputs": [],
   "source": [
    "say_hello('Ed')"
   ]
  },
  {
   "cell_type": "markdown",
   "metadata": {},
   "source": [
    "## b) Average of two numbers\n",
    "\n",
    "**Complete the code below so that is finds the average of two numbers**"
   ]
  },
  {
   "cell_type": "code",
   "execution_count": null,
   "metadata": {},
   "outputs": [],
   "source": [
    "def average(number1, number2):\n",
    "    \n",
    "    # you code here\n",
    "    \n",
    "    "
   ]
  },
  {
   "cell_type": "markdown",
   "metadata": {},
   "source": [
    "Now test your function in the cell below."
   ]
  },
  {
   "cell_type": "code",
   "execution_count": null,
   "metadata": {},
   "outputs": [],
   "source": []
  },
  {
   "cell_type": "markdown",
   "metadata": {},
   "source": [
    "## c) List sum\n",
    "\n",
    "**Using your code from the earlier exercise, complete the code below to write a function that takes in a list of numbers, and then returns the sum of those numbers**"
   ]
  },
  {
   "cell_type": "code",
   "execution_count": null,
   "metadata": {},
   "outputs": [],
   "source": [
    "def list_sum(number_list):\n",
    "    \n",
    "    total = 0\n",
    "    \n",
    "    for number in number_list:\n",
    "        \n",
    "        # your code here"
   ]
  },
  {
   "cell_type": "markdown",
   "metadata": {},
   "source": [
    "Test your function in the cell below"
   ]
  },
  {
   "cell_type": "code",
   "execution_count": null,
   "metadata": {},
   "outputs": [],
   "source": []
  },
  {
   "cell_type": "markdown",
   "metadata": {},
   "source": [
    "## c) Using other functions inside your function\n",
    "\n",
    "**Using the function you just wrote, write a new function that takes in a list of numbers and returns the average of them.**\n",
    "\n",
    "Note: the average of a list of numbers is found by adding all the numbers together and dividing by the length of the list. \n",
    "\n",
    "Remember: the length of a list can be found by using the special function `len`"
   ]
  },
  {
   "cell_type": "code",
   "execution_count": null,
   "metadata": {},
   "outputs": [],
   "source": [
    "def list_average(number_list):\n",
    "    \n",
    "    total = list_sum(number_list)\n",
    "    length = \n",
    "    \n",
    "    # your code here"
   ]
  },
  {
   "cell_type": "markdown",
   "metadata": {},
   "source": [
    "Test your function in the cell below"
   ]
  },
  {
   "cell_type": "code",
   "execution_count": null,
   "metadata": {},
   "outputs": [],
   "source": []
  },
  {
   "cell_type": "markdown",
   "metadata": {},
   "source": [
    "## d) Shopping list change\n",
    "\n",
    "Write a function that takes in two arguments. The first is a list of prices, like the one from the shopping list question. The second is a number which shows how much money is paid for the shopping. If the amount paid is less than the total cost of the shopping, return `'Please insert more cash'`. If the amount is more than the total amount, return the change. "
   ]
  },
  {
   "cell_type": "code",
   "execution_count": null,
   "metadata": {},
   "outputs": [],
   "source": [
    "def get_change(prices, amount_paid):\n",
    "    \n",
    "    total_cost = list_sum(prices)\n",
    "    \n",
    "    # your code here"
   ]
  }
 ],
 "metadata": {
  "kernelspec": {
   "display_name": "Python 3",
   "language": "python",
   "name": "python3"
  },
  "language_info": {
   "codemirror_mode": {
    "name": "ipython",
    "version": 3
   },
   "file_extension": ".py",
   "mimetype": "text/x-python",
   "name": "python",
   "nbconvert_exporter": "python",
   "pygments_lexer": "ipython3",
   "version": "3.7.3"
  }
 },
 "nbformat": 4,
 "nbformat_minor": 2
}
