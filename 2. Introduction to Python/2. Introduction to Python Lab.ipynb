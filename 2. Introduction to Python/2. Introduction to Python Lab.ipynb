{
 "cells": [
  {
   "cell_type": "markdown",
   "metadata": {},
   "source": [
    "# 2. Introduction to Python\n",
    "\n",
    "![](images/logo.png)\n",
    "\n",
    "Welcome to your first Jupyter notebook! This is the program you will be using to learn Python in. \n",
    "\n",
    "Jupyter notebooks are made up of *cells*. There are two main types of cell\n",
    "\n",
    "1. **Markdown cells**: This is where you can write text with some basic features like \n",
    "\n",
    "* bold / italic,\n",
    "* tables, \n",
    "* images,\n",
    "* headings, \n",
    "* links,\n",
    "* numbering / bullet points. \n",
    "\n",
    "Markdown cells are useful for explaining what your code is doing. *This cell is a markdown cell.* More info about how to write markdown can be found [here](https://www.markdownguide.org/getting-started/). \n",
    "\n",
    "2. **Code cells**. This is where you can write and run snippets of Python code. In order to run your code, just type it into a code cell (that's one that has a `In[ ]` next to it), then click the run button in the top bar or use the keyboard shortcut `shift + enter` or `ctrl + enter`. The output (if there is any) will appear below. \n",
    "\n",
    "# Exercise 1: The `print` function\n",
    "\n",
    "This exercise is about using the `print` function. This is used very frequently in programming, so it's useful to get to grips with it. \n",
    "\n",
    "## a) Hello world\n",
    "\n",
    "**In the code cell below, type `print('hello world')` and run the cell.**"
   ]
  },
  {
   "cell_type": "code",
   "execution_count": null,
   "metadata": {},
   "outputs": [],
   "source": []
  },
  {
   "cell_type": "markdown",
   "metadata": {},
   "source": [
    "## b) Fancy printing\n",
    "\n",
    "Printing multiple times will give new lines, for example\n",
    "\n",
    "```python\n",
    "print('hi....')\n",
    "print('...hey')\n",
    "```\n",
    "\n",
    "displays\n",
    "\n",
    "```\n",
    "hi....\n",
    "...hey\n",
    "```\n",
    "\n",
    "\n",
    "**Try using the print function to get an output that looks like this:**\n",
    "\n",
    "```\n",
    "=======================\n",
    "WELCOME TO THE DATAKIRK\n",
    "=======================\n",
    "```\n",
    "\n",
    "Remember: quote marks are important"
   ]
  },
  {
   "cell_type": "code",
   "execution_count": null,
   "metadata": {},
   "outputs": [],
   "source": []
  },
  {
   "cell_type": "markdown",
   "metadata": {},
   "source": [
    "## c) More printing\n",
    "\n",
    "You can tell the print function to print more than one thing on the same line. For example\n",
    "\n",
    "```python\n",
    "print(4, 'hey', 21.5, 'hi')\n",
    "```\n",
    "\n",
    "prints\n",
    "\n",
    "```\n",
    "4 hey 21.5 hi\n",
    "```\n",
    "\n",
    "Just separate each new thing with a comma. The print function can also be used for basic maths operations. \n",
    "\n",
    "```python\n",
    "print(5 + 5)\n",
    "```\n",
    "\n",
    "gives \n",
    "\n",
    "```\n",
    "10\n",
    "```\n",
    "\n",
    "**Use these two things to write some code that prints out**\n",
    "\n",
    "```\n",
    "the answer is: xx\n",
    "```\n",
    "\n",
    "where `xx` is the answer to `673 + 797`. \n"
   ]
  },
  {
   "cell_type": "code",
   "execution_count": null,
   "metadata": {},
   "outputs": [],
   "source": []
  },
  {
   "cell_type": "markdown",
   "metadata": {},
   "source": [
    "# Exercise 2: Variables and types\n",
    "\n",
    "\n",
    "Variables can be thought of as containers that store some piece of data, either text, a number or something else. To assign a variable, use the equals `=` sign. \n",
    "\n",
    "\n",
    "## a) Printing variables\n",
    "\n",
    "When a variable is printed, python will display whatever is stored inside that variable. **Complete the code by putting the variable name inside the brackets in the print function.**"
   ]
  },
  {
   "cell_type": "code",
   "execution_count": null,
   "metadata": {},
   "outputs": [],
   "source": [
    "organistion = 'The DataKirk'\n",
    "print()"
   ]
  },
  {
   "cell_type": "markdown",
   "metadata": {},
   "source": [
    "## b) Fill in the variable\n",
    "\n",
    "**Complete the code below by filling in a value for the variable `glasses_of_water`**"
   ]
  },
  {
   "cell_type": "code",
   "execution_count": null,
   "metadata": {},
   "outputs": [],
   "source": [
    "glasses_of_water = \n",
    "\n",
    "print('I drank', glasses_of_water, 'glasses of water today')"
   ]
  },
  {
   "cell_type": "markdown",
   "metadata": {},
   "source": [
    "## b) Your details\n",
    "\n",
    "**Create three variables called `my_first_name`, `my_last_name` and `my_birth_year`**. The first two should both be *strings* - that means they are a piece of text like `'hello world'` and should be enclosed in quotes. The third should be an *integer* (i.e. a whole number), which shouldn't be enclosed in quotes.\n"
   ]
  },
  {
   "cell_type": "code",
   "execution_count": null,
   "metadata": {},
   "outputs": [],
   "source": [
    "my_first_name = \n",
    "my_last_name = \n",
    "my_birth_year = \n",
    "\n",
    "print('Name:', my_first_name, my_last_name)\n",
    "print('Born in: ', my_birth_year)"
   ]
  },
  {
   "cell_type": "markdown",
   "metadata": {},
   "source": [
    "## b) Checking the type\n",
    "\n",
    "Every variable has a type, which can be found by using the `type` function. \n",
    "\n",
    "**Try using the `type` function to check the type each of each of these variables. Just put the variable name into brackets of the type function and run the cell.**"
   ]
  },
  {
   "cell_type": "code",
   "execution_count": null,
   "metadata": {},
   "outputs": [],
   "source": [
    "type()"
   ]
  },
  {
   "cell_type": "code",
   "execution_count": null,
   "metadata": {},
   "outputs": [],
   "source": [
    "type()"
   ]
  },
  {
   "cell_type": "code",
   "execution_count": null,
   "metadata": {},
   "outputs": [],
   "source": [
    "type()"
   ]
  },
  {
   "cell_type": "markdown",
   "metadata": {},
   "source": [
    "# Exercise 3: Maths\n",
    "\n",
    "When it comes to maths, python can be used as a fast, fancy calculator. If you've used excel before, the syntax is quite similar. The basic mathematical operations that can be used are \n",
    "\n",
    "\n",
    "\n",
    "\n",
    "\n",
    "| Operation      | Maths symbol | Python symbol | Example |\n",
    "|----------------|--------------|---------------|---------|\n",
    "| Addition       | $+$          | `+`           | `2 + 2` |\n",
    "| Subtraction    | $-$          | `-`           | `5 - 2` |\n",
    "| Multiplication | $\\times$     | `*`           | `2 * 2` |\n",
    "| Division       | $\\div$       | `/`           | `6 / 2` |\n",
    "\n",
    "\n",
    "It's good practice to also use brackets for long statements, or where the correct order of operations needs to be specified. For example, say you wanted to work out \n",
    "\n",
    "$$\n",
    "\\frac{31 - 11}{5}\n",
    "$$\n",
    "\n",
    "In Python, we could write this as \n",
    "\n",
    "```python\n",
    "(31 - 11) / 5\n",
    "```\n",
    "\n",
    "but not as\n",
    "\n",
    "```python\n",
    "31 - 11 / 5\n",
    "```\n",
    "\n",
    "which is, mathematically\n",
    "\n",
    "$$\n",
    "31 - \\frac{11}{5}\n",
    "$$\n",
    "\n",
    "In general, Python follows the Bodmas order:\n",
    "\n",
    "![](images/bodmas.png)\n",
    "\n",
    "## a) Calculations\n",
    "\n",
    "**Use the code cells below to work out the following calculations**\n",
    " \n",
    "$$\n",
    "155 \\times 721\n",
    "$$\n",
    "\n",
    "\n",
    "$$\n",
    "657 - (24 \\times 23)\n",
    "$$\n",
    "\n",
    "\n",
    "$$\n",
    "\\frac{36 + 101}{49 - 23}\n",
    "$$\n",
    "\n",
    "$$\n",
    "\\frac{2}{3} + \\frac{3}{5} - \\frac{1}{8}\n",
    "$$\n"
   ]
  },
  {
   "cell_type": "code",
   "execution_count": null,
   "metadata": {},
   "outputs": [],
   "source": []
  },
  {
   "cell_type": "code",
   "execution_count": null,
   "metadata": {},
   "outputs": [],
   "source": []
  },
  {
   "cell_type": "code",
   "execution_count": null,
   "metadata": {},
   "outputs": [],
   "source": []
  },
  {
   "cell_type": "code",
   "execution_count": null,
   "metadata": {},
   "outputs": [],
   "source": []
  },
  {
   "cell_type": "markdown",
   "metadata": {},
   "source": [
    "## b) Calculations using variables\n",
    "\n",
    "**Use the variables below to estimate the number of seconds you've lived**"
   ]
  },
  {
   "cell_type": "code",
   "execution_count": null,
   "metadata": {},
   "outputs": [],
   "source": [
    "seconds_per_minute = 60\n",
    "minutes_per_hour = 60\n",
    "hours_per_day = 24\n",
    "days_per_year = 365\n",
    "\n"
   ]
  },
  {
   "cell_type": "markdown",
   "metadata": {},
   "source": [
    "## c) Powers\n",
    "\n",
    "\n",
    "Another important maths operation is 'raising to the power'. For example, squaring a number `x` can be achieved by \n",
    "\n",
    "```python\n",
    "x ** 2\n",
    "```\n",
    "\n",
    "and cubing a number can be achieved by \n",
    "\n",
    "```python\n",
    "x ** 3\n",
    "```\n",
    "\n",
    "Raising a number to a general power `n` can be achieved by \n",
    "\n",
    "```python\n",
    "x ** n\n",
    "```\n",
    "\n",
    "Mathematically, this looks like \n",
    "\n",
    "$$\n",
    "x^{\\,n}\n",
    "$$\n",
    "\n",
    "If an interest-bearing account, which starts with an amount $V_0$, grows with a compound interest rate of $r$% per year, then the value of an account after $n$ years will be \n",
    "\n",
    "$$\n",
    "V_0 \\times \\Big(1 + \\frac{r}{100} \\Big)^n\n",
    "$$\n",
    "\n",
    "**Use the variables in the code cell below to work out the value of an account that starts with £$1000$ and grows with an interest rate of $15$% for 25 years**"
   ]
  },
  {
   "cell_type": "code",
   "execution_count": null,
   "metadata": {},
   "outputs": [],
   "source": [
    "V0 = 1000\n",
    "r = 15\n",
    "n = 25\n"
   ]
  },
  {
   "cell_type": "markdown",
   "metadata": {},
   "source": [
    "# Exercise 4: Strings\n",
    "\n",
    "Strings are pieces of text data. You can tell something is a string when it's enclosed in either single (`'`) or double (`\"`) quotes. \n",
    "\n",
    "## a) Creating string variables\n",
    "\n",
    "**Create two variables called `my_first_name1` and `my_first_name2` which both hold your first name, but enclose the first in single quotes and the second in double quotes. Print out these two variables. Is there any difference?**"
   ]
  },
  {
   "cell_type": "code",
   "execution_count": null,
   "metadata": {},
   "outputs": [],
   "source": [
    "my_first_name1 = \n",
    "my_first_name2 = \n",
    "\n",
    "print(my_first_name1)\n",
    "print(my_first_name2)"
   ]
  },
  {
   "cell_type": "markdown",
   "metadata": {},
   "source": [
    "## b) String concatenation\n",
    "\n",
    "String concatenation can be thought of as 'adding strings together'. What this means is that the strings are joined together end-to-end. Below is an example of string concatenation. \n",
    "\n",
    "```python\n",
    "string1 = 'foo'\n",
    "string2 = 'bar'\n",
    "string3 = string1 + string2\n",
    "```\n",
    "\n",
    "`string3` will now be `'foobar'`. \n",
    "\n",
    "**Fill in your first and last name then concatenate them, along with some other strings, to make a sentence that reads**\n",
    "\n",
    "\n",
    "```python\n",
    "'Hello, my name is <first name> <last name>'\n",
    "```\n",
    "\n",
    "Save this into the variable `sentence` and print it out. \n"
   ]
  },
  {
   "cell_type": "code",
   "execution_count": null,
   "metadata": {},
   "outputs": [],
   "source": [
    "sentence_start = 'Hello, my name is '\n",
    "my_first_name = \n",
    "my_last_name = \n",
    "sentence = "
   ]
  },
  {
   "cell_type": "markdown",
   "metadata": {},
   "source": [
    "## c) Sub-strings\n",
    "\n",
    "Recall that strings can be indexed to retrieve either individual characters or a sequence of characters from within the string. This is done using square brackets at the end of the variable in question. For example, with the string `Monty Python`\n",
    "\n",
    "```python\n",
    "my_string = 'Monty Python'\n",
    "print(my_string[0])\n",
    "print(my_string[1])\n",
    "print(my_string[6:10])\n",
    "```\n",
    "\n",
    "outputs\n",
    "\n",
    "```\n",
    "M\n",
    "o\n",
    "Pyth\n",
    "```\n",
    "\n",
    "![](images/string_indexing.jpeg)\n",
    "\n",
    "### c.1\n",
    "\n",
    "**With the variables `my_first_name` and `my_last_name`, use indexing to print you initials.**\n",
    "\n",
    "### c.2\n",
    "\n",
    "**Save the output sentence from part b into a new variable. Using string indexing, try to recover your first name and last name from this sentence.** "
   ]
  },
  {
   "cell_type": "code",
   "execution_count": null,
   "metadata": {},
   "outputs": [],
   "source": []
  },
  {
   "cell_type": "markdown",
   "metadata": {},
   "source": [
    "# Exercise 5: Lists\n",
    "\n",
    "Lists are used to store a sequence of items in one place. Square brackets are also used here, but Python can tell from the context whether you're using them for indexing or creating a list. \n",
    "\n",
    "Some example lists could be \n",
    "\n",
    "```python\n",
    "list1 = [1, 2, 3, 4, 5]\n",
    "list2 = ['a', 'b', 'c', 'd', 'e']\n",
    "list3 = [42, 'dog', 5, 'cat', 7]\n",
    "```\n",
    "\n",
    "## a) Creating a list\n",
    "\n",
    "**Create a list, stored in a variable called `my_movies`, that holds the titles of your three favourite movies as strings**\n"
   ]
  },
  {
   "cell_type": "code",
   "execution_count": null,
   "metadata": {},
   "outputs": [],
   "source": []
  },
  {
   "cell_type": "markdown",
   "metadata": {},
   "source": [
    "## b) Appending to a list\n",
    "\n",
    "A new item can be added to an existing list with the `.append()` method. For example, \n",
    "\n",
    "```python\n",
    "my_list = [1, 2, 3]\n",
    "my_list.append(4)\n",
    "print(my_list)\n",
    "```\n",
    "\n",
    "The output would now be `[1, 2, 3, 4]`, because `my_list` has had `4` appended to it. \n",
    "\n",
    "**Use the `.append()` syntax twice to add your next two favourite movies. Print the updated list.** "
   ]
  },
  {
   "cell_type": "code",
   "execution_count": null,
   "metadata": {},
   "outputs": [],
   "source": []
  },
  {
   "cell_type": "markdown",
   "metadata": {},
   "source": [
    "## c) Type and length\n",
    "\n",
    "Previously in this notebook we used the `type` function to see the type of a variable. Another special function, called `len` can be used in a similar way to find out the length of a list (i.e. how many items are inside the list). \n",
    "\n",
    "**Check the type and length your list using the `type` and `len` functions.**"
   ]
  },
  {
   "cell_type": "code",
   "execution_count": null,
   "metadata": {},
   "outputs": [],
   "source": []
  },
  {
   "cell_type": "markdown",
   "metadata": {},
   "source": [
    "## d) List indexing\n",
    "\n",
    "Lists can be indexed in a very similar way to strings. \n",
    "\n",
    "**Use list indexing to select the first element from your list. Print out a sentence that looks like**\n",
    "\n",
    "```python\n",
    "'My favourite movie is <fav movie here>'\n",
    "```\n",
    "\n",
    "**Use list indexing again to select the top two movies from your list. Print a sentence that looks like**\n",
    "\n",
    "```python\n",
    "'My top two movies are [\"<movie1>\", \"<movie2>\"]'\n",
    "```\n"
   ]
  },
  {
   "cell_type": "code",
   "execution_count": null,
   "metadata": {},
   "outputs": [],
   "source": []
  },
  {
   "cell_type": "code",
   "execution_count": null,
   "metadata": {},
   "outputs": [],
   "source": []
  }
 ],
 "metadata": {
  "kernelspec": {
   "display_name": "Python 3",
   "language": "python",
   "name": "python3"
  },
  "language_info": {
   "codemirror_mode": {
    "name": "ipython",
    "version": 3
   },
   "file_extension": ".py",
   "mimetype": "text/x-python",
   "name": "python",
   "nbconvert_exporter": "python",
   "pygments_lexer": "ipython3",
   "version": "3.7.3"
  }
 },
 "nbformat": 4,
 "nbformat_minor": 2
}
