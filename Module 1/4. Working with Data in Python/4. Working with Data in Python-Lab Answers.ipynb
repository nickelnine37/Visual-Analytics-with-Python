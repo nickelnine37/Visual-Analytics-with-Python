{
 "cells": [
  {
   "cell_type": "markdown",
   "metadata": {},
   "source": [
    "# 4. Working with Data in Python\n",
    "\n",
    "![](images/logo.png)\n",
    "\n",
    "Welcome to the third lab session!\n",
    "\n",
    "This lab includes some exercises about the material covered in session 4 concerning files and pandas. \n",
    "\n",
    "> **NOTE**: If your are running this lab on your own machine (i.e. not on our JupyterHub server), you need to make sure Pandas has already been installed. To check whether you have installed Pandas try running the cell below: "
   ]
  },
  {
   "cell_type": "code",
   "execution_count": 1,
   "metadata": {},
   "outputs": [],
   "source": [
    "import pandas as pd"
   ]
  },
  {
   "cell_type": "markdown",
   "metadata": {},
   "source": [
    "If nothing much happens then you're good to go. However, if you get an `ImportError`, this means pandas has not been installed. To install pandas, open your command prompt and type \n",
    "\n",
    "```\n",
    "pip install pandas\n",
    "```\n",
    "\n",
    "and hit enter. Once the install has finished, you should be good to go. Come back and retry running the cell above. \n",
    "\n",
    "With that done, let's jump in!\n",
    "\n",
    "\n",
    "\n",
    "# Exercise 1: Reading in `.txt` files\n",
    "\n",
    "## a) `with` statements\n",
    "\n",
    "If you change tab to the Jupyter file explorer, you'll notice a folder named `dreams`. If you take a look inside, you'll see 5 files called `dream1.txt`, `dream2.txt` ... , `dream5.txt`. These are short write-ups of dreams people have had, taken from the website [DreamBank](http://www.dreambank.net/), which has a collection of over 20,000 dreams recorded from many different people. \n",
    "\n",
    "Each file is made up of 3 lines. The first gives the name of the dreamer, the second gives a date, and the third has the dream content. \n",
    "\n",
    "Below is some code that reads in `dream1.txt`. \n",
    "\n",
    "In the cell below that, rewrite the code so that it does the exact same thing, but uses the `with` statement. "
   ]
  },
  {
   "cell_type": "code",
   "execution_count": 2,
   "metadata": {},
   "outputs": [
    {
     "name": "stdout",
     "output_type": "stream",
     "text": [
      "Name: Alta\n",
      "Date: 19/01/1986\n",
      "At work (?) was on the elevator with an older woman who wasn't sure what floor she wanted so she pushed extra buttons - I'd already gone up when I meant to go down to 2, and wasn't thrilled at having to stop so much. So I got off (she was surprised I took exception) and found myself outside, sort of, and now I have to get in a car that goes somewhere down some streets like in Oak town - the car was like an old '50s sort of thing with fins and they were coming off and needed to be stuck back down, took a while - arrived at a place that was an \"elevator stop\", nice old tree-lined street, the door didn't face the street - it was ivy-covered stone, very nice. Inside it was cave-like and open, but there was the elevator door. There was somebody there as well as 2 cats, and I made some comment about them having kittens (like it would be a good idea) and the guy said they were both males or something and I felt the same sort of cuteness about the exchange you usually do talking about kitties. I think I got on the elevator, and when I got to the next place I was talking to Margaret Laurence, who was enthusiastic about my intentions to do something or other, and the conversation was interrupted by Pam , who came to say the same sort of thing - they talked together for a minute before I stopped them, then they took turns.\n"
     ]
    }
   ],
   "source": [
    "text_file = open('dreams/dream1.txt')\n",
    "\n",
    "contents = text_file.read()\n",
    "\n",
    "print(contents)\n",
    "\n",
    "text_file.close()"
   ]
  },
  {
   "cell_type": "code",
   "execution_count": 3,
   "metadata": {},
   "outputs": [
    {
     "name": "stdout",
     "output_type": "stream",
     "text": [
      "Name: Alta\n",
      "Date: 19/01/1986\n",
      "At work (?) was on the elevator with an older woman who wasn't sure what floor she wanted so she pushed extra buttons - I'd already gone up when I meant to go down to 2, and wasn't thrilled at having to stop so much. So I got off (she was surprised I took exception) and found myself outside, sort of, and now I have to get in a car that goes somewhere down some streets like in Oak town - the car was like an old '50s sort of thing with fins and they were coming off and needed to be stuck back down, took a while - arrived at a place that was an \"elevator stop\", nice old tree-lined street, the door didn't face the street - it was ivy-covered stone, very nice. Inside it was cave-like and open, but there was the elevator door. There was somebody there as well as 2 cats, and I made some comment about them having kittens (like it would be a good idea) and the guy said they were both males or something and I felt the same sort of cuteness about the exchange you usually do talking about kitties. I think I got on the elevator, and when I got to the next place I was talking to Margaret Laurence, who was enthusiastic about my intentions to do something or other, and the conversation was interrupted by Pam , who came to say the same sort of thing - they talked together for a minute before I stopped them, then they took turns.\n"
     ]
    }
   ],
   "source": [
    "with open('dreams/dream1.txt') as text_file:\n",
    "    \n",
    "    contents = text_file.read()\n",
    "    \n",
    "    print(contents)"
   ]
  },
  {
   "cell_type": "markdown",
   "metadata": {},
   "source": [
    "## b) `readlines`\n",
    "\n",
    "Copy and paste your code from above. Replace `.read()` with `.readlines()`. This will create a list, where each element is a new line.\n",
    "\n",
    "Remember, sometimes it may look like text is going over multiple lines when really it's on just one. \n",
    "\n",
    "Using list indexing, select the 3rd element from this list (remember, list indexing starts from 0) so that you extract only the text, not the name or date. Print this text. "
   ]
  },
  {
   "cell_type": "code",
   "execution_count": 9,
   "metadata": {},
   "outputs": [
    {
     "name": "stdout",
     "output_type": "stream",
     "text": [
      "At work (?) was on the elevator with an older woman who wasn't sure what floor she wanted so she pushed extra buttons - I'd already gone up when I meant to go down to 2, and wasn't thrilled at having to stop so much. So I got off (she was surprised I took exception) and found myself outside, sort of, and now I have to get in a car that goes somewhere down some streets like in Oak town - the car was like an old '50s sort of thing with fins and they were coming off and needed to be stuck back down, took a while - arrived at a place that was an \"elevator stop\", nice old tree-lined street, the door didn't face the street - it was ivy-covered stone, very nice. Inside it was cave-like and open, but there was the elevator door. There was somebody there as well as 2 cats, and I made some comment about them having kittens (like it would be a good idea) and the guy said they were both males or something and I felt the same sort of cuteness about the exchange you usually do talking about kitties. I think I got on the elevator, and when I got to the next place I was talking to Margaret Laurence, who was enthusiastic about my intentions to do something or other, and the conversation was interrupted by Pam , who came to say the same sort of thing - they talked together for a minute before I stopped them, then they took turns.\n"
     ]
    }
   ],
   "source": [
    "with open('dreams/dream1.txt') as text_file:\n",
    "    \n",
    "    contents = text_file.readlines()[2]\n",
    "    \n",
    "print(contents)"
   ]
  },
  {
   "cell_type": "markdown",
   "metadata": {},
   "source": [
    "## c) Extracting the text from multiple files\n",
    "\n",
    "Complete the code below to print the text from all five files. "
   ]
  },
  {
   "cell_type": "code",
   "execution_count": 8,
   "metadata": {},
   "outputs": [
    {
     "data": {
      "text/plain": [
       "['dream3.txt', 'dream1.txt', 'dream2.txt', 'dream5.txt', 'dream4.txt']"
      ]
     },
     "execution_count": 8,
     "metadata": {},
     "output_type": "execute_result"
    }
   ],
   "source": [
    "os.listdir('dreams')"
   ]
  },
  {
   "cell_type": "code",
   "execution_count": 10,
   "metadata": {},
   "outputs": [
    {
     "name": "stdout",
     "output_type": "stream",
     "text": [
      "A tall many-storied building stands near a road. A construction crew is looking for a structural problem. I go into the building to the basement and I see a twisted place in a girder, a long beam. I come out and tell the foreman the building is about to collapse. We start running away and hiding in the bushes. I am next to the road and realize I must stop traffic because the building is going to fall on the road. I run onto the road yelling at the pedestrians to stop! Some ignore me and break past me, walking into the dangerous area. I see the building and actually try to visualize it falling because it isn't and I've got all these people stopped and they are annoyed at me. It finally collapses far away from the road. A person glares at me for hindering them. I shrug. Better safe than sorry.\n",
      "At work (?) was on the elevator with an older woman who wasn't sure what floor she wanted so she pushed extra buttons - I'd already gone up when I meant to go down to 2, and wasn't thrilled at having to stop so much. So I got off (she was surprised I took exception) and found myself outside, sort of, and now I have to get in a car that goes somewhere down some streets like in Oak town - the car was like an old '50s sort of thing with fins and they were coming off and needed to be stuck back down, took a while - arrived at a place that was an \"elevator stop\", nice old tree-lined street, the door didn't face the street - it was ivy-covered stone, very nice. Inside it was cave-like and open, but there was the elevator door. There was somebody there as well as 2 cats, and I made some comment about them having kittens (like it would be a good idea) and the guy said they were both males or something and I felt the same sort of cuteness about the exchange you usually do talking about kitties. I think I got on the elevator, and when I got to the next place I was talking to Margaret Laurence, who was enthusiastic about my intentions to do something or other, and the conversation was interrupted by Pam , who came to say the same sort of thing - they talked together for a minute before I stopped them, then they took turns.\n",
      "I'm driving to my male cousin's for my appointment - I'm with somebody else and I'm late for some reason. When I get there finally he's rather perturbed because he's got a group together and they're wanting to go someplace for breakfast and work there. I didn't even know about the group - he's arranged this because he's going out of town and is taking care of everybody at once. His house is interesting, with a kind of close front door and entry going back to a kitchen/dining area and the group is in a room left of that. Kitchen light is yellow. They've all had to wait, not just for me, but 1 or 2 others, and now we all get up and leave for someplace, maybe Denny's. I get back in the car - it's either raining or been raining and this is an old convertible, maybe a sports car, top up. I have to take my male cousin's dog with me - it's maybe a Basset Hound and typically morose-looking, willing to be shunted round but not enthusiastic. We leave. On the way I decide, hell, I'm not hungry, and this doesn't sound that great, I'm not gonna go. So I just take off on my own path\n",
      "I am from the woods and my pet cat. She is somehow a deer, not a cat. We export ice from the woods to earn our living, and I am taking part in a large expedition of many woodsmen to make a big ice delivery to the city. A. The deer comes along. I pull by hand a cart filled with large ice blocks along an unpaved, bumpy trail. It is hard work. After passing through a thick wood the deer and I stop in a meadow where I brake the cart so I may rest a few minutes. The deer jumps on top of the ice blocks and sits down there. She likes it! More woodsmen pass through the meadow and they think it is humorous to see a deer that likes sitting on ice blocks. The woodsmen and I sit around the cart laughing for a while and everyone is content. \n",
      "I am in the mountains. Skiing in the red sand. The morning program is over and a woman is trying to convince me to go trekking. I go up to woman and ask her what she wants and she says she just wants a chat. She says a slow trek is much more introspective. But I want either her or to go skiing. So I go over to the ski shop. A Japanese man is trying to rent me skis with very old bindings. I refuse and say I want skis with bindings from at least 1970. He finds the bindings. But the wind is coming up so hard that I can't go skiing anymore. I am on the trek. There was a murder to be committed and I thought that one of the brothers was doing it. But it appeared that one of the other brothers, young Ethan, was going to kill the prime minister. He was an evil man. (Ethan or the prime minister?) I get goose bumps when I see this young man, Ethan, going down the mountain. He is singing the romantic lead in Fiddler on the Roof. He is very excited. But he is not going to see his own baby son because he does not want to confuse him by just appearing shortly and then disappearing again\n"
     ]
    }
   ],
   "source": [
    "import os\n",
    "\n",
    "for file_name in os.listdir('dreams'):\n",
    "     \n",
    "    path = 'dreams/' + file_name\n",
    "    \n",
    "    with open(path) as text_file:\n",
    "        \n",
    "        print(text_file.readlines()[2])"
   ]
  },
  {
   "cell_type": "markdown",
   "metadata": {},
   "source": [
    "# Exercise 2: Writing files\n",
    "\n",
    "Below you will see a function being imported from a file called `random_sentence.py`. (This is another use of `import` - to bring in functions written in external files). Try running the function `generate_random_sentence()` a few times to see what it does. "
   ]
  },
  {
   "cell_type": "code",
   "execution_count": 11,
   "metadata": {},
   "outputs": [
    {
     "name": "stdout",
     "output_type": "stream",
     "text": [
      "The splendid pug really loved the industrious duck\n"
     ]
    }
   ],
   "source": [
    "from random_sentence import generate_random_sentence\n",
    "\n",
    "random_sentence = generate_random_sentence()\n",
    "\n",
    "print(random_sentence)"
   ]
  },
  {
   "cell_type": "markdown",
   "metadata": {},
   "source": [
    "## a) Writing many lines 1\n",
    "\n",
    "By using the function `generate_random_sentence()`, complete the code below to write 100 random sentences to a file called `random_sentences1.txt`, using the `.write()` function. Check this has worked by opening the file in the Jupyter launcher.\n",
    "\n",
    "Remember to use the `\\n` character to signify a new line. "
   ]
  },
  {
   "cell_type": "code",
   "execution_count": 58,
   "metadata": {},
   "outputs": [],
   "source": [
    "n_sentences = 100\n",
    "\n",
    "with open('random_sentences1.txt', 'w') as my_file:\n",
    "    \n",
    "    for i in range(n_sentences):\n",
    "        \n",
    "        my_file.write(generate_random_sentence() + '\\n')"
   ]
  },
  {
   "cell_type": "markdown",
   "metadata": {},
   "source": [
    "## a) Writing many lines 2\n",
    "\n",
    "Do the same thing again, but this time use a list of sentences with the `.writelines()` function. \n"
   ]
  },
  {
   "cell_type": "code",
   "execution_count": 60,
   "metadata": {},
   "outputs": [],
   "source": [
    "n_sentences = 100\n",
    "\n",
    "lines = []\n",
    "\n",
    "for i in range(n_sentences):\n",
    "    \n",
    "    lines.append(generate_random_sentence() + '\\n')\n",
    "    \n",
    "    \n",
    "with open('random_sentences2.txt', 'w') as my_file:\n",
    "    \n",
    "    my_file.writelines(lines)"
   ]
  },
  {
   "cell_type": "markdown",
   "metadata": {},
   "source": [
    "# Exercise 3: Pandas\n",
    "\n",
    "## a) Creating a DataFrame from a list of lists\n",
    "\n",
    "Use the following data to create a pandas DataFrame. Store it in a variable called `df`. "
   ]
  },
  {
   "cell_type": "code",
   "execution_count": 12,
   "metadata": {},
   "outputs": [
    {
     "data": {
      "text/html": [
       "<div>\n",
       "<style scoped>\n",
       "    .dataframe tbody tr th:only-of-type {\n",
       "        vertical-align: middle;\n",
       "    }\n",
       "\n",
       "    .dataframe tbody tr th {\n",
       "        vertical-align: top;\n",
       "    }\n",
       "\n",
       "    .dataframe thead th {\n",
       "        text-align: right;\n",
       "    }\n",
       "</style>\n",
       "<table border=\"1\" class=\"dataframe\">\n",
       "  <thead>\n",
       "    <tr style=\"text-align: right;\">\n",
       "      <th></th>\n",
       "      <th>name</th>\n",
       "      <th>calories</th>\n",
       "      <th>protein</th>\n",
       "      <th>fat</th>\n",
       "      <th>sodium</th>\n",
       "      <th>fiber</th>\n",
       "    </tr>\n",
       "  </thead>\n",
       "  <tbody>\n",
       "    <tr>\n",
       "      <th>0</th>\n",
       "      <td>100% Bran</td>\n",
       "      <td>70</td>\n",
       "      <td>4</td>\n",
       "      <td>1</td>\n",
       "      <td>130</td>\n",
       "      <td>10</td>\n",
       "    </tr>\n",
       "    <tr>\n",
       "      <th>1</th>\n",
       "      <td>100% Natural Bran</td>\n",
       "      <td>120</td>\n",
       "      <td>3</td>\n",
       "      <td>5</td>\n",
       "      <td>15</td>\n",
       "      <td>2</td>\n",
       "    </tr>\n",
       "    <tr>\n",
       "      <th>2</th>\n",
       "      <td>All-Bran</td>\n",
       "      <td>70</td>\n",
       "      <td>4</td>\n",
       "      <td>1</td>\n",
       "      <td>260</td>\n",
       "      <td>9</td>\n",
       "    </tr>\n",
       "    <tr>\n",
       "      <th>3</th>\n",
       "      <td>All-Bran with Extra Fiber</td>\n",
       "      <td>50</td>\n",
       "      <td>4</td>\n",
       "      <td>0</td>\n",
       "      <td>140</td>\n",
       "      <td>14</td>\n",
       "    </tr>\n",
       "    <tr>\n",
       "      <th>4</th>\n",
       "      <td>Almond Delight</td>\n",
       "      <td>110</td>\n",
       "      <td>2</td>\n",
       "      <td>2</td>\n",
       "      <td>200</td>\n",
       "      <td>1</td>\n",
       "    </tr>\n",
       "  </tbody>\n",
       "</table>\n",
       "</div>"
      ],
      "text/plain": [
       "                        name  calories  protein  fat  sodium  fiber\n",
       "0                  100% Bran        70        4    1     130     10\n",
       "1          100% Natural Bran       120        3    5      15      2\n",
       "2                   All-Bran        70        4    1     260      9\n",
       "3  All-Bran with Extra Fiber        50        4    0     140     14\n",
       "4             Almond Delight       110        2    2     200      1"
      ]
     },
     "execution_count": 12,
     "metadata": {},
     "output_type": "execute_result"
    }
   ],
   "source": [
    "import pandas as pd\n",
    "\n",
    "\n",
    "column_names = ['name', 'calories', 'protein', 'fat', 'sodium', 'fiber']\n",
    "\n",
    "data = [['100% Bran', 70, 4, 1, 130, 10],\n",
    "        ['100% Natural Bran', 120, 3, 5, 15, 2],\n",
    "        ['All-Bran', 70,  4, 1, 260, 9],\n",
    "        ['All-Bran with Extra Fiber', 50,  4, 0, 140, 14],\n",
    "        ['Almond Delight', 110, 2, 2, 200, 1]]\n",
    "\n",
    "df = pd.DataFrame(data, columns=column_names)\n",
    "df\n"
   ]
  },
  {
   "cell_type": "markdown",
   "metadata": {},
   "source": [
    "## b) Column information\n",
    "\n",
    "Use the function `df.mean()` to find the mean of each column. Do the same for `.min()` and `.max()`. \n"
   ]
  },
  {
   "cell_type": "code",
   "execution_count": 13,
   "metadata": {},
   "outputs": [
    {
     "data": {
      "text/plain": [
       "calories     84.0\n",
       "protein       3.4\n",
       "fat           1.8\n",
       "sodium      149.0\n",
       "fiber         7.2\n",
       "dtype: float64"
      ]
     },
     "execution_count": 13,
     "metadata": {},
     "output_type": "execute_result"
    }
   ],
   "source": [
    "df.mean()"
   ]
  },
  {
   "cell_type": "code",
   "execution_count": 14,
   "metadata": {},
   "outputs": [
    {
     "data": {
      "text/plain": [
       "name        100% Bran\n",
       "calories           50\n",
       "protein             2\n",
       "fat                 0\n",
       "sodium             15\n",
       "fiber               1\n",
       "dtype: object"
      ]
     },
     "execution_count": 14,
     "metadata": {},
     "output_type": "execute_result"
    }
   ],
   "source": [
    "df.min()"
   ]
  },
  {
   "cell_type": "code",
   "execution_count": 15,
   "metadata": {},
   "outputs": [
    {
     "data": {
      "text/plain": [
       "name        Almond Delight\n",
       "calories               120\n",
       "protein                  4\n",
       "fat                      5\n",
       "sodium                 260\n",
       "fiber                   14\n",
       "dtype: object"
      ]
     },
     "execution_count": 15,
     "metadata": {},
     "output_type": "execute_result"
    }
   ],
   "source": [
    "df.max()"
   ]
  },
  {
   "cell_type": "markdown",
   "metadata": {},
   "source": [
    "## c) Loading data from a csv file\n",
    "\n",
    "Below is some code that opens the full dataset from a file. Edit it so that the `'name'` column becomes the index column. \n"
   ]
  },
  {
   "cell_type": "code",
   "execution_count": 16,
   "metadata": {},
   "outputs": [
    {
     "data": {
      "text/html": [
       "<div>\n",
       "<style scoped>\n",
       "    .dataframe tbody tr th:only-of-type {\n",
       "        vertical-align: middle;\n",
       "    }\n",
       "\n",
       "    .dataframe tbody tr th {\n",
       "        vertical-align: top;\n",
       "    }\n",
       "\n",
       "    .dataframe thead th {\n",
       "        text-align: right;\n",
       "    }\n",
       "</style>\n",
       "<table border=\"1\" class=\"dataframe\">\n",
       "  <thead>\n",
       "    <tr style=\"text-align: right;\">\n",
       "      <th></th>\n",
       "      <th>calories</th>\n",
       "      <th>protein</th>\n",
       "      <th>fat</th>\n",
       "      <th>sodium</th>\n",
       "      <th>fiber</th>\n",
       "      <th>carbo</th>\n",
       "      <th>sugars</th>\n",
       "      <th>potass</th>\n",
       "      <th>vitamins</th>\n",
       "      <th>rating</th>\n",
       "    </tr>\n",
       "    <tr>\n",
       "      <th>name</th>\n",
       "      <th></th>\n",
       "      <th></th>\n",
       "      <th></th>\n",
       "      <th></th>\n",
       "      <th></th>\n",
       "      <th></th>\n",
       "      <th></th>\n",
       "      <th></th>\n",
       "      <th></th>\n",
       "      <th></th>\n",
       "    </tr>\n",
       "  </thead>\n",
       "  <tbody>\n",
       "    <tr>\n",
       "      <th>All-Bran with Extra Fiber</th>\n",
       "      <td>50</td>\n",
       "      <td>4</td>\n",
       "      <td>0</td>\n",
       "      <td>140</td>\n",
       "      <td>14.0</td>\n",
       "      <td>8.0</td>\n",
       "      <td>0</td>\n",
       "      <td>330</td>\n",
       "      <td>25</td>\n",
       "      <td>93.704912</td>\n",
       "    </tr>\n",
       "    <tr>\n",
       "      <th>All-Bran</th>\n",
       "      <td>70</td>\n",
       "      <td>4</td>\n",
       "      <td>1</td>\n",
       "      <td>260</td>\n",
       "      <td>9.0</td>\n",
       "      <td>7.0</td>\n",
       "      <td>5</td>\n",
       "      <td>320</td>\n",
       "      <td>25</td>\n",
       "      <td>59.425505</td>\n",
       "    </tr>\n",
       "    <tr>\n",
       "      <th>100% Bran</th>\n",
       "      <td>70</td>\n",
       "      <td>4</td>\n",
       "      <td>1</td>\n",
       "      <td>130</td>\n",
       "      <td>10.0</td>\n",
       "      <td>5.0</td>\n",
       "      <td>6</td>\n",
       "      <td>280</td>\n",
       "      <td>25</td>\n",
       "      <td>68.402973</td>\n",
       "    </tr>\n",
       "    <tr>\n",
       "      <th>Post Nat. Raisin Bran</th>\n",
       "      <td>120</td>\n",
       "      <td>3</td>\n",
       "      <td>1</td>\n",
       "      <td>200</td>\n",
       "      <td>6.0</td>\n",
       "      <td>11.0</td>\n",
       "      <td>14</td>\n",
       "      <td>260</td>\n",
       "      <td>25</td>\n",
       "      <td>37.840594</td>\n",
       "    </tr>\n",
       "    <tr>\n",
       "      <th>Raisin Bran</th>\n",
       "      <td>120</td>\n",
       "      <td>3</td>\n",
       "      <td>1</td>\n",
       "      <td>210</td>\n",
       "      <td>5.0</td>\n",
       "      <td>14.0</td>\n",
       "      <td>12</td>\n",
       "      <td>240</td>\n",
       "      <td>25</td>\n",
       "      <td>39.259197</td>\n",
       "    </tr>\n",
       "    <tr>\n",
       "      <th>...</th>\n",
       "      <td>...</td>\n",
       "      <td>...</td>\n",
       "      <td>...</td>\n",
       "      <td>...</td>\n",
       "      <td>...</td>\n",
       "      <td>...</td>\n",
       "      <td>...</td>\n",
       "      <td>...</td>\n",
       "      <td>...</td>\n",
       "      <td>...</td>\n",
       "    </tr>\n",
       "    <tr>\n",
       "      <th>Trix</th>\n",
       "      <td>110</td>\n",
       "      <td>1</td>\n",
       "      <td>1</td>\n",
       "      <td>140</td>\n",
       "      <td>0.0</td>\n",
       "      <td>13.0</td>\n",
       "      <td>12</td>\n",
       "      <td>25</td>\n",
       "      <td>25</td>\n",
       "      <td>27.753301</td>\n",
       "    </tr>\n",
       "    <tr>\n",
       "      <th>Corn Pops</th>\n",
       "      <td>110</td>\n",
       "      <td>1</td>\n",
       "      <td>0</td>\n",
       "      <td>90</td>\n",
       "      <td>1.0</td>\n",
       "      <td>13.0</td>\n",
       "      <td>12</td>\n",
       "      <td>20</td>\n",
       "      <td>25</td>\n",
       "      <td>35.782791</td>\n",
       "    </tr>\n",
       "    <tr>\n",
       "      <th>Puffed Rice</th>\n",
       "      <td>50</td>\n",
       "      <td>1</td>\n",
       "      <td>0</td>\n",
       "      <td>0</td>\n",
       "      <td>0.0</td>\n",
       "      <td>13.0</td>\n",
       "      <td>0</td>\n",
       "      <td>15</td>\n",
       "      <td>0</td>\n",
       "      <td>60.756112</td>\n",
       "    </tr>\n",
       "    <tr>\n",
       "      <th>Almond Delight</th>\n",
       "      <td>110</td>\n",
       "      <td>2</td>\n",
       "      <td>2</td>\n",
       "      <td>200</td>\n",
       "      <td>1.0</td>\n",
       "      <td>14.0</td>\n",
       "      <td>8</td>\n",
       "      <td>0</td>\n",
       "      <td>25</td>\n",
       "      <td>34.384843</td>\n",
       "    </tr>\n",
       "    <tr>\n",
       "      <th>Cream of Wheat (Quick)</th>\n",
       "      <td>100</td>\n",
       "      <td>3</td>\n",
       "      <td>0</td>\n",
       "      <td>80</td>\n",
       "      <td>1.0</td>\n",
       "      <td>21.0</td>\n",
       "      <td>0</td>\n",
       "      <td>0</td>\n",
       "      <td>0</td>\n",
       "      <td>64.533816</td>\n",
       "    </tr>\n",
       "  </tbody>\n",
       "</table>\n",
       "<p>74 rows × 10 columns</p>\n",
       "</div>"
      ],
      "text/plain": [
       "                           calories  protein  fat  sodium  fiber  carbo  \\\n",
       "name                                                                      \n",
       "All-Bran with Extra Fiber        50        4    0     140   14.0    8.0   \n",
       "All-Bran                         70        4    1     260    9.0    7.0   \n",
       "100% Bran                        70        4    1     130   10.0    5.0   \n",
       "Post Nat. Raisin Bran           120        3    1     200    6.0   11.0   \n",
       "Raisin Bran                     120        3    1     210    5.0   14.0   \n",
       "...                             ...      ...  ...     ...    ...    ...   \n",
       "Trix                            110        1    1     140    0.0   13.0   \n",
       "Corn Pops                       110        1    0      90    1.0   13.0   \n",
       "Puffed Rice                      50        1    0       0    0.0   13.0   \n",
       "Almond Delight                  110        2    2     200    1.0   14.0   \n",
       "Cream of Wheat (Quick)          100        3    0      80    1.0   21.0   \n",
       "\n",
       "                           sugars  potass  vitamins     rating  \n",
       "name                                                            \n",
       "All-Bran with Extra Fiber       0     330        25  93.704912  \n",
       "All-Bran                        5     320        25  59.425505  \n",
       "100% Bran                       6     280        25  68.402973  \n",
       "Post Nat. Raisin Bran          14     260        25  37.840594  \n",
       "Raisin Bran                    12     240        25  39.259197  \n",
       "...                           ...     ...       ...        ...  \n",
       "Trix                           12      25        25  27.753301  \n",
       "Corn Pops                      12      20        25  35.782791  \n",
       "Puffed Rice                     0      15         0  60.756112  \n",
       "Almond Delight                  8       0        25  34.384843  \n",
       "Cream of Wheat (Quick)          0       0         0  64.533816  \n",
       "\n",
       "[74 rows x 10 columns]"
      ]
     },
     "execution_count": 16,
     "metadata": {},
     "output_type": "execute_result"
    }
   ],
   "source": [
    "df = pd.read_csv('cereal.csv', index_col='name')\n",
    "df"
   ]
  },
  {
   "cell_type": "markdown",
   "metadata": {},
   "source": [
    "## d) Getting row information\n",
    "\n",
    "Use `.loc[]` to find out all information about `'Cheerios'`"
   ]
  },
  {
   "cell_type": "code",
   "execution_count": 17,
   "metadata": {},
   "outputs": [
    {
     "data": {
      "text/plain": [
       "calories    110.000000\n",
       "protein       6.000000\n",
       "fat           2.000000\n",
       "sodium      290.000000\n",
       "fiber         2.000000\n",
       "carbo        17.000000\n",
       "sugars        1.000000\n",
       "potass      105.000000\n",
       "vitamins     25.000000\n",
       "rating       50.764999\n",
       "Name: Cheerios, dtype: float64"
      ]
     },
     "execution_count": 17,
     "metadata": {},
     "output_type": "execute_result"
    }
   ],
   "source": [
    "df.loc['Cheerios']"
   ]
  },
  {
   "cell_type": "markdown",
   "metadata": {},
   "source": [
    "## e) Adding a healthy or unhealthy label\n",
    "\n",
    "We are now going to add a new column called `'healthy'` which will contain the values `True` or `False` for each cereal type. If the calories are greater than 120 or the sugar is greater than 10, we will mark it as unhealthy. Otherwise we will mark it as healthy. \n",
    "\n",
    "The code below creates a list where each element is `True` or `False`, which specifies the health status of the corresponding cereal. Add this as a new column to the dataframe. "
   ]
  },
  {
   "cell_type": "code",
   "execution_count": 18,
   "metadata": {},
   "outputs": [
    {
     "name": "stdout",
     "output_type": "stream",
     "text": [
      "[True, True, True, False, False, False, True, False, True, False, True, True, True, False, True, True, False, True, True, True, True, True, True, True, True, True, False, True, True, False, True, True, True, True, True, True, True, True, True, True, True, False, True, True, True, False, False, True, True, True, True, False, True, False, True, True, False, False, True, False, True, True, False, True, False, True, True, False, False, False, False, True, True, True]\n"
     ]
    }
   ],
   "source": [
    "healthy = []\n",
    "\n",
    "for cereal in df.index:\n",
    "    \n",
    "    row = df.loc[cereal]\n",
    "    \n",
    "    if row['calories'] > 120 or row['sugars'] > 10:\n",
    "       \n",
    "        healthy.append(False)\n",
    "        \n",
    "    else:\n",
    "        \n",
    "        healthy.append(True)\n",
    "        \n",
    "print(healthy)"
   ]
  },
  {
   "cell_type": "code",
   "execution_count": 19,
   "metadata": {},
   "outputs": [
    {
     "data": {
      "text/html": [
       "<div>\n",
       "<style scoped>\n",
       "    .dataframe tbody tr th:only-of-type {\n",
       "        vertical-align: middle;\n",
       "    }\n",
       "\n",
       "    .dataframe tbody tr th {\n",
       "        vertical-align: top;\n",
       "    }\n",
       "\n",
       "    .dataframe thead th {\n",
       "        text-align: right;\n",
       "    }\n",
       "</style>\n",
       "<table border=\"1\" class=\"dataframe\">\n",
       "  <thead>\n",
       "    <tr style=\"text-align: right;\">\n",
       "      <th></th>\n",
       "      <th>calories</th>\n",
       "      <th>protein</th>\n",
       "      <th>fat</th>\n",
       "      <th>sodium</th>\n",
       "      <th>fiber</th>\n",
       "      <th>carbo</th>\n",
       "      <th>sugars</th>\n",
       "      <th>potass</th>\n",
       "      <th>vitamins</th>\n",
       "      <th>rating</th>\n",
       "      <th>healthy</th>\n",
       "    </tr>\n",
       "    <tr>\n",
       "      <th>name</th>\n",
       "      <th></th>\n",
       "      <th></th>\n",
       "      <th></th>\n",
       "      <th></th>\n",
       "      <th></th>\n",
       "      <th></th>\n",
       "      <th></th>\n",
       "      <th></th>\n",
       "      <th></th>\n",
       "      <th></th>\n",
       "      <th></th>\n",
       "    </tr>\n",
       "  </thead>\n",
       "  <tbody>\n",
       "    <tr>\n",
       "      <th>All-Bran with Extra Fiber</th>\n",
       "      <td>50</td>\n",
       "      <td>4</td>\n",
       "      <td>0</td>\n",
       "      <td>140</td>\n",
       "      <td>14.0</td>\n",
       "      <td>8.0</td>\n",
       "      <td>0</td>\n",
       "      <td>330</td>\n",
       "      <td>25</td>\n",
       "      <td>93.704912</td>\n",
       "      <td>True</td>\n",
       "    </tr>\n",
       "    <tr>\n",
       "      <th>All-Bran</th>\n",
       "      <td>70</td>\n",
       "      <td>4</td>\n",
       "      <td>1</td>\n",
       "      <td>260</td>\n",
       "      <td>9.0</td>\n",
       "      <td>7.0</td>\n",
       "      <td>5</td>\n",
       "      <td>320</td>\n",
       "      <td>25</td>\n",
       "      <td>59.425505</td>\n",
       "      <td>True</td>\n",
       "    </tr>\n",
       "    <tr>\n",
       "      <th>100% Bran</th>\n",
       "      <td>70</td>\n",
       "      <td>4</td>\n",
       "      <td>1</td>\n",
       "      <td>130</td>\n",
       "      <td>10.0</td>\n",
       "      <td>5.0</td>\n",
       "      <td>6</td>\n",
       "      <td>280</td>\n",
       "      <td>25</td>\n",
       "      <td>68.402973</td>\n",
       "      <td>True</td>\n",
       "    </tr>\n",
       "    <tr>\n",
       "      <th>Post Nat. Raisin Bran</th>\n",
       "      <td>120</td>\n",
       "      <td>3</td>\n",
       "      <td>1</td>\n",
       "      <td>200</td>\n",
       "      <td>6.0</td>\n",
       "      <td>11.0</td>\n",
       "      <td>14</td>\n",
       "      <td>260</td>\n",
       "      <td>25</td>\n",
       "      <td>37.840594</td>\n",
       "      <td>False</td>\n",
       "    </tr>\n",
       "    <tr>\n",
       "      <th>Raisin Bran</th>\n",
       "      <td>120</td>\n",
       "      <td>3</td>\n",
       "      <td>1</td>\n",
       "      <td>210</td>\n",
       "      <td>5.0</td>\n",
       "      <td>14.0</td>\n",
       "      <td>12</td>\n",
       "      <td>240</td>\n",
       "      <td>25</td>\n",
       "      <td>39.259197</td>\n",
       "      <td>False</td>\n",
       "    </tr>\n",
       "    <tr>\n",
       "      <th>...</th>\n",
       "      <td>...</td>\n",
       "      <td>...</td>\n",
       "      <td>...</td>\n",
       "      <td>...</td>\n",
       "      <td>...</td>\n",
       "      <td>...</td>\n",
       "      <td>...</td>\n",
       "      <td>...</td>\n",
       "      <td>...</td>\n",
       "      <td>...</td>\n",
       "      <td>...</td>\n",
       "    </tr>\n",
       "    <tr>\n",
       "      <th>Trix</th>\n",
       "      <td>110</td>\n",
       "      <td>1</td>\n",
       "      <td>1</td>\n",
       "      <td>140</td>\n",
       "      <td>0.0</td>\n",
       "      <td>13.0</td>\n",
       "      <td>12</td>\n",
       "      <td>25</td>\n",
       "      <td>25</td>\n",
       "      <td>27.753301</td>\n",
       "      <td>False</td>\n",
       "    </tr>\n",
       "    <tr>\n",
       "      <th>Corn Pops</th>\n",
       "      <td>110</td>\n",
       "      <td>1</td>\n",
       "      <td>0</td>\n",
       "      <td>90</td>\n",
       "      <td>1.0</td>\n",
       "      <td>13.0</td>\n",
       "      <td>12</td>\n",
       "      <td>20</td>\n",
       "      <td>25</td>\n",
       "      <td>35.782791</td>\n",
       "      <td>False</td>\n",
       "    </tr>\n",
       "    <tr>\n",
       "      <th>Puffed Rice</th>\n",
       "      <td>50</td>\n",
       "      <td>1</td>\n",
       "      <td>0</td>\n",
       "      <td>0</td>\n",
       "      <td>0.0</td>\n",
       "      <td>13.0</td>\n",
       "      <td>0</td>\n",
       "      <td>15</td>\n",
       "      <td>0</td>\n",
       "      <td>60.756112</td>\n",
       "      <td>True</td>\n",
       "    </tr>\n",
       "    <tr>\n",
       "      <th>Almond Delight</th>\n",
       "      <td>110</td>\n",
       "      <td>2</td>\n",
       "      <td>2</td>\n",
       "      <td>200</td>\n",
       "      <td>1.0</td>\n",
       "      <td>14.0</td>\n",
       "      <td>8</td>\n",
       "      <td>0</td>\n",
       "      <td>25</td>\n",
       "      <td>34.384843</td>\n",
       "      <td>True</td>\n",
       "    </tr>\n",
       "    <tr>\n",
       "      <th>Cream of Wheat (Quick)</th>\n",
       "      <td>100</td>\n",
       "      <td>3</td>\n",
       "      <td>0</td>\n",
       "      <td>80</td>\n",
       "      <td>1.0</td>\n",
       "      <td>21.0</td>\n",
       "      <td>0</td>\n",
       "      <td>0</td>\n",
       "      <td>0</td>\n",
       "      <td>64.533816</td>\n",
       "      <td>True</td>\n",
       "    </tr>\n",
       "  </tbody>\n",
       "</table>\n",
       "<p>74 rows × 11 columns</p>\n",
       "</div>"
      ],
      "text/plain": [
       "                           calories  protein  fat  sodium  fiber  carbo  \\\n",
       "name                                                                      \n",
       "All-Bran with Extra Fiber        50        4    0     140   14.0    8.0   \n",
       "All-Bran                         70        4    1     260    9.0    7.0   \n",
       "100% Bran                        70        4    1     130   10.0    5.0   \n",
       "Post Nat. Raisin Bran           120        3    1     200    6.0   11.0   \n",
       "Raisin Bran                     120        3    1     210    5.0   14.0   \n",
       "...                             ...      ...  ...     ...    ...    ...   \n",
       "Trix                            110        1    1     140    0.0   13.0   \n",
       "Corn Pops                       110        1    0      90    1.0   13.0   \n",
       "Puffed Rice                      50        1    0       0    0.0   13.0   \n",
       "Almond Delight                  110        2    2     200    1.0   14.0   \n",
       "Cream of Wheat (Quick)          100        3    0      80    1.0   21.0   \n",
       "\n",
       "                           sugars  potass  vitamins     rating  healthy  \n",
       "name                                                                     \n",
       "All-Bran with Extra Fiber       0     330        25  93.704912     True  \n",
       "All-Bran                        5     320        25  59.425505     True  \n",
       "100% Bran                       6     280        25  68.402973     True  \n",
       "Post Nat. Raisin Bran          14     260        25  37.840594    False  \n",
       "Raisin Bran                    12     240        25  39.259197    False  \n",
       "...                           ...     ...       ...        ...      ...  \n",
       "Trix                           12      25        25  27.753301    False  \n",
       "Corn Pops                      12      20        25  35.782791    False  \n",
       "Puffed Rice                     0      15         0  60.756112     True  \n",
       "Almond Delight                  8       0        25  34.384843     True  \n",
       "Cream of Wheat (Quick)          0       0         0  64.533816     True  \n",
       "\n",
       "[74 rows x 11 columns]"
      ]
     },
     "execution_count": 19,
     "metadata": {},
     "output_type": "execute_result"
    }
   ],
   "source": [
    "df['healthy'] = healthy\n",
    "df"
   ]
  },
  {
   "cell_type": "code",
   "execution_count": null,
   "metadata": {},
   "outputs": [],
   "source": []
  }
 ],
 "metadata": {
  "kernelspec": {
   "display_name": "Python 3",
   "language": "python",
   "name": "python3"
  },
  "language_info": {
   "codemirror_mode": {
    "name": "ipython",
    "version": 3
   },
   "file_extension": ".py",
   "mimetype": "text/x-python",
   "name": "python",
   "nbconvert_exporter": "python",
   "pygments_lexer": "ipython3",
   "version": "3.7.3"
  }
 },
 "nbformat": 4,
 "nbformat_minor": 2
}
