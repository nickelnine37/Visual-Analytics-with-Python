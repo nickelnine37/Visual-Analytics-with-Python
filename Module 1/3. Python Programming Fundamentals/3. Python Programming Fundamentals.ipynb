{
 "cells": [
  {
   "cell_type": "markdown",
   "metadata": {},
   "source": [
    "# 3. Python Programming Fundamentals\n",
    "\n",
    "![](images/logo.png)\n",
    "\n",
    "Welcome to lab 2!\n",
    "\n",
    "This lab includes some exercises about the material covered in session 3. For a reminder about how Jupyter works, check out the previous notebook. Otherwise, let's jump right in. \n",
    "\n",
    "\n",
    "\n",
    "# Exercise 1: Conditions\n",
    "\n",
    "Conditions are used when you only want some piece of code to run `if` a condition is true. \n",
    "\n",
    "## a) `if` statements\n",
    "\n",
    "Check out the code below"
   ]
  },
  {
   "cell_type": "code",
   "execution_count": 26,
   "metadata": {},
   "outputs": [],
   "source": [
    "x = 20\n",
    "if x > 100:\n",
    "    print('Whoa, that is a big number')"
   ]
  },
  {
   "cell_type": "markdown",
   "metadata": {},
   "source": [
    "This can be represented as a flow chart as \n",
    "\n",
    "![](images/cond1.png)\n",
    "\n",
    "**Change that value of the variable `x` in this code so that it prints `Whoa, that is a big number`**"
   ]
  },
  {
   "cell_type": "markdown",
   "metadata": {},
   "source": [
    "## b) `if`-`else` statements\n",
    "\n",
    "Often, if the condition is not true, you'll want to run some alternative code. This is done with the `else` statement, together making an `if`-`else` statement. Take a look at the example below"
   ]
  },
  {
   "cell_type": "code",
   "execution_count": 25,
   "metadata": {},
   "outputs": [
    {
     "name": "stdout",
     "output_type": "stream",
     "text": [
      "Impressive\n"
     ]
    }
   ],
   "source": [
    "x = 500\n",
    "if x > 100:\n",
    "    print('Impressive')\n",
    "else:\n",
    "    print('Disappointing')"
   ]
  },
  {
   "cell_type": "markdown",
   "metadata": {},
   "source": [
    "In flow chart notation, this is equivalent to \n",
    "\n",
    "![](images/cond2.png)\n",
    "\n",
    "**Write your own if else condition that does the following:**\n",
    "\n",
    "> If `x` is equal to `10`, print `whoa, x is EXACTLY 10`. Otherwise print `Ahh, x is not 10`. \n",
    "\n",
    "Or, in flow chart notation\n",
    "\n",
    "![](images/cond3.png)\n",
    "\n",
    "Hint: to see if two things are equal in a condition like this, use double equals sign `==`. "
   ]
  },
  {
   "cell_type": "code",
   "execution_count": null,
   "metadata": {},
   "outputs": [],
   "source": []
  },
  {
   "cell_type": "markdown",
   "metadata": {},
   "source": [
    "## c) Nested `if`-`else` statements\n",
    "\n",
    "Nested if statements are useful when you want to sort into more than two groups.  "
   ]
  },
  {
   "cell_type": "code",
   "execution_count": 22,
   "metadata": {},
   "outputs": [
    {
     "name": "stdout",
     "output_type": "stream",
     "text": [
      "Still cool I guess\n"
     ]
    }
   ],
   "source": [
    "x = 500\n",
    "\n",
    "if x > 100:\n",
    "    \n",
    "    if x > 1000:\n",
    "        print('Whoa')\n",
    "    else:\n",
    "        print('Still cool I guess')\n",
    "        \n",
    "else:\n",
    "    print('Lame')"
   ]
  },
  {
   "cell_type": "markdown",
   "metadata": {},
   "source": [
    "As a flowchat, this is\n",
    "\n",
    "![](images/cond4.png)\n",
    "\n",
    "\n",
    "\n",
    "**Copy and paste the code from above into the cell below, and then change the outer `else` statement to check whether the number is negative. Add print statements for these two outcomes.** Something like this\n",
    "\n",
    "![](images/cond5.png)\n",
    "\n",
    "\n",
    "\n",
    "Hint: Indentation becomes very important here. Each new logical block must be indented with four spaces or one tab. \n"
   ]
  },
  {
   "cell_type": "code",
   "execution_count": null,
   "metadata": {},
   "outputs": [],
   "source": []
  },
  {
   "cell_type": "markdown",
   "metadata": {},
   "source": [
    "## d) Example: working out the animal type\n",
    "\n",
    "\n",
    "Some programmers decide to make a web-app that can identify animal type based on some questions. To start, they try to find out whether it is a mammal, bird or fish based on the following two questions\n",
    "\n",
    "1. Does the animal breathe air?\n",
    "2. Does the animal lay eggs?\n",
    "\n",
    "which they take from the user. \n",
    "\n",
    "![](images/animal_cond1.png)\n",
    "\n",
    "\n",
    "## The `input` function \n",
    "\n",
    "\n",
    "In python, input can be taken from the user using a special function called `input`. \n",
    "\n",
    "Try running the cell below"
   ]
  },
  {
   "cell_type": "code",
   "execution_count": 1,
   "metadata": {},
   "outputs": [
    {
     "name": "stdout",
     "output_type": "stream",
     "text": [
      "Name?: Ed\n",
      "My name is Ed\n"
     ]
    }
   ],
   "source": [
    "name = input('Name?: ')\n",
    "\n",
    "print('My name is', name)"
   ]
  },
  {
   "cell_type": "markdown",
   "metadata": {},
   "source": [
    "When the function `input` is run, it prompts the user to type a response in, which is registered after hitting enter. The answer is automatically stored as a string, which can be assigned to a variable - here the answer gets stored in a variable called `name`.\n",
    "\n",
    "The text that you put inside the brackets of `input` just gives a message to the user when they give their answer. You can try changing the text in the code above to see the effect. \n",
    "\n",
    "## Back to animals\n",
    "\n",
    "Take a look at the code below. This takes answers to the animal qestions from the user and stores them in variables called `breathes_air` and `lays_eggs`. The answer, as typed in by the user, should be either \n",
    "\n",
    "```\n",
    "yes\n",
    "```\n",
    "\n",
    "or \n",
    "\n",
    "```\n",
    "no\n",
    "```\n",
    "\n",
    "all in lowercase. \n",
    "\n",
    "Based on this information, we can use nested `if`-`else` statements to work out what type of animal it is. \n",
    "\n",
    "Try running it for yourself. "
   ]
  },
  {
   "cell_type": "code",
   "execution_count": 11,
   "metadata": {},
   "outputs": [
    {
     "name": "stdout",
     "output_type": "stream",
     "text": [
      "Does the animal breathe air?: no\n",
      "Does the animal lay eggs?: yes\n",
      "The animal is a fish\n"
     ]
    }
   ],
   "source": [
    "breathes_air = input('Does the animal breathe air?: ')\n",
    "lays_eggs = input('Does the animal lay eggs?: ')\n",
    "\n",
    "if breathes_air == 'yes':\n",
    "    \n",
    "    if lays_eggs == 'yes':\n",
    "        print('The animal is a bird')\n",
    "        \n",
    "    else:\n",
    "        print('The animal is a mammal')\n",
    "    \n",
    "else:\n",
    "    print('The animal is a fish')"
   ]
  },
  {
   "cell_type": "markdown",
   "metadata": {},
   "source": [
    "The programmers want to add in a question to tell the difference between birds and reptiles, both of which breathe air and lay eggs.\n",
    "\n",
    "![](images/animal_cond2.png)\n",
    "\n",
    "**Copy and paste the code from above into the cell below. Add a new variable which takes input from the user in the same way. Design you own question to tell apart birds and reptiles and then use it to change the code so that the program can sort between these two animal types.**"
   ]
  },
  {
   "cell_type": "code",
   "execution_count": null,
   "metadata": {},
   "outputs": [],
   "source": []
  },
  {
   "cell_type": "markdown",
   "metadata": {},
   "source": [
    "# Exercise 2: `for` loops\n",
    "\n",
    "In this exercise we have a shopping list, which is split into two different Python lists. The first holds the name of each item, and the second holds the corresponding price of each item. \n",
    "\n",
    "1. `items`: Holds the name of each item in the shopping list\n",
    "2. `prices`: Holds the price of each item in the shopping list in pounds. \n",
    "\n",
    "**There are 18 items in the list**. This is shown in the code cell below. Make sure you run this cell, so that the variables are created. "
   ]
  },
  {
   "cell_type": "code",
   "execution_count": 3,
   "metadata": {},
   "outputs": [],
   "source": [
    "items = ['Courgettes', 'Leeks', 'Lettuce', 'Bread', 'Mango', 'Biscuits', 'Beans', 'Coconut Milk', 'Chicken', \n",
    "         'Bananas', 'Crackers', 'Rice', 'Mackerel', 'Mushrooms', 'Pizza', 'Salmon', 'Broccoli', 'Spinach']\n",
    "\n",
    "prices = [0.4, 1.7, 0.85, 0.9, 0.49, 1.0, 0.77, 1.0, 2.5, 0.79, 0.95, 0.75, 2.65, 0.95, 1.05, 2.5, 0.35, 1.25]"
   ]
  },
  {
   "cell_type": "markdown",
   "metadata": {},
   "source": [
    "## Warm up: total amount spent\n",
    "\n",
    "Often in programming you will want to have a variable that keeps track of some total amount that is updated on each loop. \n",
    "\n",
    "**Take a look at the code below, which calculates the total cost of the shop.**"
   ]
  },
  {
   "cell_type": "code",
   "execution_count": 9,
   "metadata": {},
   "outputs": [
    {
     "name": "stdout",
     "output_type": "stream",
     "text": [
      "20.849999999999998\n"
     ]
    }
   ],
   "source": [
    "total_amount = 0\n",
    "\n",
    "for price in prices:\n",
    "    total_amount = total_amount + price\n",
    "    \n",
    "print(total_amount)"
   ]
  },
  {
   "cell_type": "markdown",
   "metadata": {},
   "source": [
    "## a) Highest/lowest price\n",
    "\n",
    "Below is some code that finds the highest price in the whole list. \n",
    "\n",
    "**Edit this code so that it also finds the lowest price in the list**"
   ]
  },
  {
   "cell_type": "code",
   "execution_count": 5,
   "metadata": {},
   "outputs": [
    {
     "name": "stdout",
     "output_type": "stream",
     "text": [
      "Highest price is:  2.65\n"
     ]
    }
   ],
   "source": [
    "highest_price_seen = 0\n",
    "\n",
    "for price in prices:\n",
    "    \n",
    "    if price > highest_price_seen:\n",
    "        highest_price_seen = price\n",
    "        \n",
    "    # your code here\n",
    "        \n",
    "print('Highest price is: ', highest_price_seen)"
   ]
  },
  {
   "cell_type": "markdown",
   "metadata": {},
   "source": [
    "## b) Highest / lowest priced item\n",
    "\n",
    "Recall that the `range(n)` function can be used to create a list of numbers from 0 to n-1. This can be useful when we want to use this number to *index* a list. Take a look at the code below. "
   ]
  },
  {
   "cell_type": "code",
   "execution_count": 10,
   "metadata": {},
   "outputs": [
    {
     "name": "stdout",
     "output_type": "stream",
     "text": [
      "0 42\n",
      "1 dog\n",
      "2 5\n",
      "3 cat\n",
      "4 7\n"
     ]
    }
   ],
   "source": [
    "my_list = [42, 'dog', 5, 'cat', 7]\n",
    "\n",
    "for i in range(5):\n",
    "    print(i, my_list[i])"
   ]
  },
  {
   "cell_type": "markdown",
   "metadata": {},
   "source": [
    "We now want to know not only the price of the most expensive and cheapest item, but also what that item is. The code below gets you started. **Complete this code to make a working algorithm that prints**\n",
    "\n",
    "```\n",
    "The most expensive item is <blah>, costing <blah>\n",
    "The most cheapest item is <blah>, costing <blah>\n",
    "```"
   ]
  },
  {
   "cell_type": "code",
   "execution_count": 7,
   "metadata": {},
   "outputs": [],
   "source": [
    "\n",
    "for i in range(18):\n",
    "    \n",
    "    item = items[i]\n",
    "    price = prices[i]\n",
    "    \n",
    "    # your code here\n",
    "\n"
   ]
  },
  {
   "cell_type": "markdown",
   "metadata": {},
   "source": [
    "## c) Sorting into groups\n",
    "\n",
    "Below is another list which tells you the food type of each item. The options are \n",
    "\n",
    "* `'fruit/veg'`\n",
    "* `'meat/fish'`\n",
    "* `'carbs'`\n",
    "* `'treat'`\n",
    "\n",
    "Complete the code to work out how much is spent on each group"
   ]
  },
  {
   "cell_type": "code",
   "execution_count": 8,
   "metadata": {},
   "outputs": [
    {
     "name": "stdout",
     "output_type": "stream",
     "text": [
      "8.55\n",
      "0\n",
      "0\n",
      "0\n"
     ]
    }
   ],
   "source": [
    "food_types = ['fruit/veg', 'fruit/veg', 'fruit/veg', 'carbs', 'fruit/veg', 'treat', 'fruit/veg', \n",
    "              'fruit/veg', 'meat/fish', 'fruit/veg', 'carbs', 'carbs', 'meat/fish', 'fruit/veg', \n",
    "              'treat', 'meat/fish', 'fruit/veg', 'fruit/veg']\n",
    "\n",
    "total_fruit_and_veg = 0\n",
    "total_meat_and_fish = 0\n",
    "total_carbs = 0\n",
    "total_treat = 0\n",
    "\n",
    "for i in range(18):\n",
    "    \n",
    "    price = prices[i]\n",
    "    food_type = food_types[i]\n",
    "    \n",
    "    if food_type == 'fruit/veg':\n",
    "        total_fruit_and_veg = total_fruit_and_veg + price\n",
    "        \n",
    "    \n",
    "    # your code here\n",
    "    \n",
    "print(total_fruit_and_veg)\n",
    "print(total_meat_and_fish)\n",
    "print(total_carbs)\n",
    "print(total_treat)\n"
   ]
  },
  {
   "cell_type": "markdown",
   "metadata": {},
   "source": [
    "\n",
    "# Exercise 3: `while` loops\n",
    "\n",
    "\n",
    "We want to create a simple toy password app using a `while` loop. \n",
    "\n",
    "## a) Create a password and a secret\n",
    "\n",
    "**Create two variables, one called `password` and one called `secret`. Assign some string to each one** (this shouldn't be a real password you use! Just a fake one). The secret can be anything, e.g. `'I love pancakes'`. "
   ]
  },
  {
   "cell_type": "code",
   "execution_count": 47,
   "metadata": {},
   "outputs": [
    {
     "ename": "SyntaxError",
     "evalue": "invalid syntax (<ipython-input-47-7b258246094f>, line 1)",
     "output_type": "error",
     "traceback": [
      "\u001b[0;36m  File \u001b[0;32m\"<ipython-input-47-7b258246094f>\"\u001b[0;36m, line \u001b[0;32m1\u001b[0m\n\u001b[0;31m    password =\u001b[0m\n\u001b[0m               ^\u001b[0m\n\u001b[0;31mSyntaxError\u001b[0m\u001b[0;31m:\u001b[0m invalid syntax\n"
     ]
    }
   ],
   "source": [
    "password = \n",
    "secret = "
   ]
  },
  {
   "cell_type": "markdown",
   "metadata": {},
   "source": [
    "## b) Complete the condition\n",
    "\n",
    "**Replace `[condition]` in the code below with a valid check, so that the secret gets printed when the password is correctly guessed by the user**\n"
   ]
  },
  {
   "cell_type": "code",
   "execution_count": 48,
   "metadata": {},
   "outputs": [
    {
     "ename": "NameError",
     "evalue": "name 'condition' is not defined",
     "output_type": "error",
     "traceback": [
      "\u001b[0;31m---------------------------------------------------------------------------\u001b[0m",
      "\u001b[0;31mNameError\u001b[0m                                 Traceback (most recent call last)",
      "\u001b[0;32m<ipython-input-48-29523485638f>\u001b[0m in \u001b[0;36m<module>\u001b[0;34m\u001b[0m\n\u001b[1;32m      1\u001b[0m \u001b[0mpassword_guess\u001b[0m \u001b[0;34m=\u001b[0m \u001b[0;34m''\u001b[0m\u001b[0;34m\u001b[0m\u001b[0;34m\u001b[0m\u001b[0m\n\u001b[1;32m      2\u001b[0m \u001b[0;34m\u001b[0m\u001b[0m\n\u001b[0;32m----> 3\u001b[0;31m \u001b[0;32mwhile\u001b[0m \u001b[0;34m[\u001b[0m\u001b[0mcondition\u001b[0m\u001b[0;34m]\u001b[0m \u001b[0;34m:\u001b[0m\u001b[0;34m\u001b[0m\u001b[0;34m\u001b[0m\u001b[0m\n\u001b[0m\u001b[1;32m      4\u001b[0m     \u001b[0mpassword_guess\u001b[0m \u001b[0;34m=\u001b[0m \u001b[0minput\u001b[0m\u001b[0;34m(\u001b[0m\u001b[0;34m'Enter password'\u001b[0m\u001b[0;34m)\u001b[0m\u001b[0;34m\u001b[0m\u001b[0;34m\u001b[0m\u001b[0m\n",
      "\u001b[0;31mNameError\u001b[0m: name 'condition' is not defined"
     ]
    }
   ],
   "source": [
    "\n",
    "password_guess = ''\n",
    "\n",
    "while [condition] :\n",
    "    password_guess = input('Enter password')\n",
    "    \n",
    "print(secret)"
   ]
  },
  {
   "cell_type": "markdown",
   "metadata": {},
   "source": [
    "## c) Add maximum number of guesses\n",
    "\n",
    "Copy and paste your code from above into a new cell below. Add a variable called `number_of_guesses` and another one called `maximum_number_of_guesses`. Each time the user guesses incorrectly, add 1 to the number of guesses. If the user guesses more times than the maximum, print `'secret denied'`. "
   ]
  },
  {
   "cell_type": "code",
   "execution_count": null,
   "metadata": {},
   "outputs": [],
   "source": []
  },
  {
   "cell_type": "markdown",
   "metadata": {},
   "source": [
    "# Exercise 4: functions\n",
    "\n",
    "\n",
    "## a) Greeter\n",
    "\n",
    "Write a function that takes in a name as a string, and then returns a string `'Hello, <name>'`. "
   ]
  },
  {
   "cell_type": "code",
   "execution_count": null,
   "metadata": {},
   "outputs": [],
   "source": []
  },
  {
   "cell_type": "markdown",
   "metadata": {},
   "source": [
    "## b) List sum\n",
    "\n",
    "Write a function that takes in a list of numbers, and then returns the sum of those numbers. "
   ]
  },
  {
   "cell_type": "code",
   "execution_count": null,
   "metadata": {},
   "outputs": [],
   "source": []
  },
  {
   "cell_type": "markdown",
   "metadata": {},
   "source": [
    "## c) List average\n",
    "\n",
    "Using the function you just wrote, write a new function that takes in a list of numbers and returns the average of them. "
   ]
  },
  {
   "cell_type": "code",
   "execution_count": null,
   "metadata": {},
   "outputs": [],
   "source": []
  },
  {
   "cell_type": "markdown",
   "metadata": {},
   "source": [
    "## d) Shopping list change\n",
    "\n",
    "Write a function that takes in two arguments. The first is a list of prices, like the one from the shopping list question. The second is a number which shows how much money is paid for the shopping. If the amount paid is less than the total cost of the shopping, return `'Please insert more cash'`. If the amount is more than the total amount, return the change. "
   ]
  },
  {
   "cell_type": "code",
   "execution_count": null,
   "metadata": {},
   "outputs": [],
   "source": []
  }
 ],
 "metadata": {
  "kernelspec": {
   "display_name": "Python 3",
   "language": "python",
   "name": "python3"
  },
  "language_info": {
   "codemirror_mode": {
    "name": "ipython",
    "version": 3
   },
   "file_extension": ".py",
   "mimetype": "text/x-python",
   "name": "python",
   "nbconvert_exporter": "python",
   "pygments_lexer": "ipython3",
   "version": "3.7.3"
  }
 },
 "nbformat": 4,
 "nbformat_minor": 2
}
