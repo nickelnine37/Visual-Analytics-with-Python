{
 "cells": [
  {
   "cell_type": "markdown",
   "metadata": {},
   "source": [
    "# 7. Machine Learning: Part 1\n",
    "\n",
    "![](images/logo.png)\n",
    "\n",
    "Hello and welcome to session 7 of the Visual Analytics with Python and Power BI, hosted by the DataKirk. In this session we will be using the K-nearest neighbours algorithm from scikit learn to try and perform medical diagnoses. \n",
    "\n",
    "If you're working on the server at https://jupyterhub.thedatakirk.org.uk/ then all the relevant libraries (Scikit learn, Pandas etc) should already be installed and ready to use. However, if you're running the code on your own computer (which we do advise at this point as it will accelerate your learning!) then you'll need to make sure that you have installed them. This can be done by opening up a command prompt and typing \n",
    "\n",
    "```\n",
    "pip install matplotlib pandas scikit-learn\n",
    "```\n",
    "\n",
    "To check whether you have these libraries installed, run the cell below."
   ]
  },
  {
   "cell_type": "code",
   "execution_count": null,
   "metadata": {},
   "outputs": [],
   "source": [
    "import pandas as pd\n",
    "import matplotlib.pyplot as plt\n",
    "import sklearn"
   ]
  },
  {
   "cell_type": "markdown",
   "metadata": {},
   "source": [
    "As long as you get no errors, you are good to go! Once the libraries are imported, it's also a good idea to run the line in the cell below:"
   ]
  },
  {
   "cell_type": "code",
   "execution_count": null,
   "metadata": {},
   "outputs": [],
   "source": [
    "%matplotlib notebook"
   ]
  },
  {
   "cell_type": "markdown",
   "metadata": {},
   "source": [
    "Now we're ready to go!\n",
    "\n",
    "# Part 1: Examining the data\n",
    "\n",
    "In this session we will be looking at the  well-known [Breast Cancer Dataset](https://archive.ics.uci.edu/ml/datasets/Breast+Cancer+Wisconsin+%28Original%29), donated to the University of California, Irvine (UCI) collection from the University of Wisconsin-Madison.\n",
    "\n",
    "The purpose of this dataset is to predict whether a patient will develop breast cancer. In order to make this prediction, we are given a number of measurements which have been taken on the cells of a potentially cancerous tumour. Those measurements include:\n",
    "\n",
    "1. Clump Thickness: 1 - 10\n",
    "2. Uniformity of Cell Size: 1 - 10\n",
    "3. Uniformity of Cell Shape: 1 - 10\n",
    "4. Marginal Adhesion: 1 - 10\n",
    "5. Single Epithelial Cell Size: 1 - 10\n",
    "6. Bare Nuclei: 1 - 10\n",
    "7. Bland Chromatin: 1 - 10\n",
    "8. Normal Nucleoli: 1 - 10\n",
    "9. Mitoses: 1 - 10 \n",
    "\n",
    "#### Load this dataset from the csv file and take a look"
   ]
  },
  {
   "cell_type": "code",
   "execution_count": null,
   "metadata": {},
   "outputs": [],
   "source": [
    "data = pd.read_csv('data/breast-cancer.csv')\n",
    "data"
   ]
  },
  {
   "cell_type": "markdown",
   "metadata": {},
   "source": [
    "We can examine the distrubution of values within a column using `plt.hist()`. Below is a histogram of the firt column. "
   ]
  },
  {
   "cell_type": "code",
   "execution_count": null,
   "metadata": {},
   "outputs": [],
   "source": [
    "plt.figure()\n",
    "\n",
    "plt.hist(data['clump_thickness'], bins=9)\n",
    "\n",
    "plt.title('Clump Thickness: 1-10')"
   ]
  },
  {
   "cell_type": "markdown",
   "metadata": {},
   "source": [
    "#### Do the same for some of the other columns. \n",
    "\n",
    "Are there any interesting patterns? "
   ]
  },
  {
   "cell_type": "code",
   "execution_count": null,
   "metadata": {},
   "outputs": [],
   "source": [
    "# your code here\n",
    "\n",
    "\n",
    "\n"
   ]
  },
  {
   "cell_type": "markdown",
   "metadata": {},
   "source": [
    "In this dataset, a cancerous tumour is indicated with a 1, and a benign tumour is indicated with a 0. \n",
    "\n",
    "#### Use the dataframe to find out whether there are more cancerous or benign tumours in this dataset. "
   ]
  },
  {
   "cell_type": "code",
   "execution_count": null,
   "metadata": {},
   "outputs": [],
   "source": [
    "# your code here\n",
    "\n",
    "\n",
    "\n"
   ]
  },
  {
   "cell_type": "markdown",
   "metadata": {},
   "source": [
    "# Part 2: Preparing the data\n",
    "\n",
    "Take a look at the code from the presentation showing how to use scikit learn to create a train test split. \n",
    "\n",
    "\n",
    "\n",
    "#### Edit this code to split this dataset into a training set and a test set\n",
    "\n"
   ]
  },
  {
   "cell_type": "code",
   "execution_count": null,
   "metadata": {},
   "outputs": [],
   "source": [
    "# your code here\n",
    "\n",
    "from sklearn.model_selection import train_test_split\n",
    "\n",
    "\n"
   ]
  },
  {
   "cell_type": "markdown",
   "metadata": {},
   "source": [
    "We're now almost ready to feed this into the model. First, let's create two variables. One should be a list containing all the input column names, and another which is the name of the target column - just like in the presentation. \n",
    "\n",
    "#### Create these variables"
   ]
  },
  {
   "cell_type": "code",
   "execution_count": null,
   "metadata": {},
   "outputs": [],
   "source": [
    "# your code here\n",
    "\n",
    "\n",
    "input_cols = []\n",
    "target_col = ''"
   ]
  },
  {
   "cell_type": "markdown",
   "metadata": {},
   "source": [
    "## Training the model\n",
    "\n",
    "Now we are ready for training. \n",
    "\n",
    "#### Complete the code below to create a KNN classifier with 5 neighbors"
   ]
  },
  {
   "cell_type": "code",
   "execution_count": null,
   "metadata": {},
   "outputs": [],
   "source": [
    "from sklearn.neighbors import KNeighborsClassifier\n",
    "\n",
    "# your code here\n",
    "\n"
   ]
  },
  {
   "cell_type": "markdown",
   "metadata": {},
   "source": [
    "#### Now test this model on the test data\n",
    "\n"
   ]
  },
  {
   "cell_type": "code",
   "execution_count": null,
   "metadata": {},
   "outputs": [],
   "source": [
    "# your code here\n",
    "\n"
   ]
  },
  {
   "cell_type": "markdown",
   "metadata": {},
   "source": [
    "#### What is the percentage accuracy? "
   ]
  },
  {
   "cell_type": "code",
   "execution_count": null,
   "metadata": {},
   "outputs": [],
   "source": [
    "# your code here\n",
    "\n"
   ]
  },
  {
   "cell_type": "markdown",
   "metadata": {},
   "source": [
    "#### What else can you find out about the nodel's performance?"
   ]
  },
  {
   "cell_type": "code",
   "execution_count": null,
   "metadata": {},
   "outputs": [],
   "source": [
    "# your code here\n",
    "\n"
   ]
  },
  {
   "cell_type": "markdown",
   "metadata": {},
   "source": [
    "#### What do you think the optimal value of k is in this circumstance?"
   ]
  },
  {
   "cell_type": "code",
   "execution_count": null,
   "metadata": {},
   "outputs": [],
   "source": [
    "# your code here\n",
    "\n"
   ]
  }
 ],
 "metadata": {
  "kernelspec": {
   "display_name": "Python 3",
   "language": "python",
   "name": "python3"
  },
  "language_info": {
   "codemirror_mode": {
    "name": "ipython",
    "version": 3
   },
   "file_extension": ".py",
   "mimetype": "text/x-python",
   "name": "python",
   "nbconvert_exporter": "python",
   "pygments_lexer": "ipython3",
   "version": "3.7.3"
  }
 },
 "nbformat": 4,
 "nbformat_minor": 2
}
