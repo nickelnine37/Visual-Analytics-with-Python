{
 "cells": [
  {
   "cell_type": "markdown",
   "metadata": {},
   "source": [
    "# 5. Examples of Visual Analytics in Python\n",
    "\n",
    "![](images/logo.png)\n",
    "\n",
    "Hello and welcome to another session with the DataKirk. This week it's colour time! \n",
    "\n",
    "If you're working on the server at https://jupyterhub.thedatakirk.org.uk/ then all the relevant libraries (Matplotlib, Pandas etc) should already be installed and ready to use. However, if you're running the code on your own computer (which we do advise at this point as it will accelerate your learning!) then you'll need to make sure that you have installed them. This can be done by opening up a command prompt and typing \n",
    "\n",
    "```\n",
    "pip install matplotlib pandas\n",
    "```\n",
    "\n",
    "To check whether you have these libraries installed, run the cell below. "
   ]
  },
  {
   "cell_type": "code",
   "execution_count": 2,
   "metadata": {},
   "outputs": [],
   "source": [
    "import pandas as pd\n",
    "import matplotlib.pyplot as plt"
   ]
  },
  {
   "cell_type": "markdown",
   "metadata": {},
   "source": [
    "As long as you get no errors, you are good to go! Once the libraries are imported, it's also a good idea to run the line in the cell below:"
   ]
  },
  {
   "cell_type": "code",
   "execution_count": 3,
   "metadata": {},
   "outputs": [],
   "source": [
    "%matplotlib notebook"
   ]
  },
  {
   "cell_type": "markdown",
   "metadata": {},
   "source": [
    "The will make all Matplotlib plots interactive so you can pan, zoom and move around within the figure. Once you have run this cell you should see these options at the bottom of every plot:\n",
    "\n",
    "![](images/mplnb.png)\n",
    "\n",
    "If you don't see them when you begin plotting, try going back and running the cell above again. \n",
    "\n",
    "Here are some useful links for the session:\n",
    "\n",
    "1. List of matplotlib colours: https://matplotlib.org/3.1.0/gallery/color/named_colors.html\n",
    "2. Google colour picker: https://www.google.com/search?q=color+picker\n",
    "\n",
    "\n",
    "This session will be a little different from the last few. Rather than give you questions and answers, it will be a bit more open-ended! I will just provide 3 different datasets and you can use the tools from the presentation to visualise the data any way you like. \n",
    "\n",
    "You don't have to explore all of these datasets - if you want to pick one to focus on that's fine. \n",
    "\n",
    "\n",
    "# 1. Coronavirus data UK\n",
    "\n",
    "The first dataset contains information about the spread of coronavirus in Scotland, England, Wales and Northern Ireland. \n",
    "\n",
    "Potential analysis suggestions: \n",
    "\n",
    "1. To what extent are caseloads correlated amongst the four nations? \n",
    "2. What aspects are the same and different about the first and second wave? \n",
    "3. How are the different nations comparing in the fight against covid? \n",
    "\n",
    "Feel free to find additional data such as population numbers, or dates of lockdown. "
   ]
  },
  {
   "cell_type": "code",
   "execution_count": null,
   "metadata": {},
   "outputs": [],
   "source": [
    "data_sco = pd.read_csv('data/covid/Corona_Scot.csv', index_col=0, parse_dates=True)\n",
    "\n",
    "data_wal = pd.read_csv('data/covid/Corona_Wales.csv', index_col=0, parse_dates=True)\n",
    "\n",
    "data_eng = pd.read_csv('data/covid/Corona_Eng.csv', index_col=0, parse_dates=True)\n",
    "\n",
    "data_nir = pd.read_csv('data/covid/Corona_NI.csv', index_col=0, parse_dates=True)"
   ]
  },
  {
   "cell_type": "code",
   "execution_count": null,
   "metadata": {},
   "outputs": [],
   "source": []
  },
  {
   "cell_type": "markdown",
   "metadata": {},
   "source": [
    "# 2. Stock price data\n",
    "\n",
    "The second dataset contains stock price information since 2012 for the largest 20 companies listed in the United Kingdom:\n",
    "\n",
    "Potential analysis suggestions: \n",
    "\n",
    "1. How has coronavirus affected the stock market in the UK?\n",
    "2. How correlated are stocks in the UK?\n",
    "3. Which stocks are the biggest winners and the biggest losers in the last 8 years?"
   ]
  },
  {
   "cell_type": "code",
   "execution_count": null,
   "metadata": {},
   "outputs": [],
   "source": [
    "price_data = pd.read_csv('data/stocks/FTSE_stock_prices.csv', index_col='Date', parse_dates=True)\n",
    "\n",
    "company_info = pd.read_csv('data/stocks/companies.csv')"
   ]
  },
  {
   "cell_type": "code",
   "execution_count": null,
   "metadata": {},
   "outputs": [],
   "source": []
  },
  {
   "cell_type": "markdown",
   "metadata": {},
   "source": [
    "# 3. Income, Inequality and Environment\n",
    "\n",
    "The final dataset contains annual data for GDP, inequality and carbon emissions for 192 countries around the world. \n",
    "\n",
    "Potential analysis suggestions: \n",
    "\n",
    "1. What is the relation between GDP and carbon emissions?\n",
    "2. What trends in time can you identify?\n",
    "3. Is there a relation between carbon emissions and inequality? \n",
    "\n",
    "Helpful hint: \n",
    "\n",
    "Sometimes is can be helpful to set the scale of an axis to logarithmic - this can be done by calling \n",
    "\n",
    "```python\n",
    "plt.xscale('log')\n",
    "```\n",
    "\n",
    "or \n",
    "\n",
    "```python\n",
    "plt.yscale('log')\n",
    "```"
   ]
  },
  {
   "cell_type": "code",
   "execution_count": 5,
   "metadata": {},
   "outputs": [],
   "source": [
    "population = pd.read_csv('data/national/population.csv', index_col=0, parse_dates=True)\n",
    "\n",
    "co2_per_person = pd.read_csv('data/national/co2_emissions_tonnes_per_person.csv', index_col=0, parse_dates=True)\n",
    "\n",
    "gdp_per_cap = pd.read_csv('data/national/gdppercapita_us_inflation_adjusted.csv', index_col=0, parse_dates=True)\n",
    "\n",
    "inequality_metric = pd.read_csv('data/national/gini.csv', index_col=0, parse_dates=True)"
   ]
  },
  {
   "cell_type": "code",
   "execution_count": null,
   "metadata": {},
   "outputs": [],
   "source": []
  }
 ],
 "metadata": {
  "kernelspec": {
   "display_name": "Python 3",
   "language": "python",
   "name": "python3"
  },
  "language_info": {
   "codemirror_mode": {
    "name": "ipython",
    "version": 3
   },
   "file_extension": ".py",
   "mimetype": "text/x-python",
   "name": "python",
   "nbconvert_exporter": "python",
   "pygments_lexer": "ipython3",
   "version": "3.7.3"
  }
 },
 "nbformat": 4,
 "nbformat_minor": 2
}
