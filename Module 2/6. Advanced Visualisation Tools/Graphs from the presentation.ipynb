{
 "cells": [
  {
   "cell_type": "markdown",
   "metadata": {},
   "source": [
    "# Graphs from the presentation\n",
    "\n"
   ]
  },
  {
   "cell_type": "code",
   "execution_count": null,
   "metadata": {},
   "outputs": [],
   "source": [
    "import matplotlib.pyplot as plt\n",
    "%matplotlib notebook"
   ]
  },
  {
   "cell_type": "code",
   "execution_count": null,
   "metadata": {},
   "outputs": [],
   "source": [
    "# create a new figure\n",
    "plt.figure()\n",
    "\n",
    "# create x and y coordinates via lists\n",
    "x = [99, 19, 88, 12, 95, 47, 81, 64, 83, 76]\n",
    "y = [43, 18, 11,  4, 78, 47, 77, 70, 21, 24]\n",
    "\n",
    "# scatter the points onto the figure\n",
    "plt.scatter(x, y)"
   ]
  },
  {
   "cell_type": "code",
   "execution_count": null,
   "metadata": {},
   "outputs": [],
   "source": [
    "# create a new figure \n",
    "plt.figure()\n",
    "\n",
    "# create x and y values via lists\n",
    "x = [1, 2, 3, 4, 5, 6, 7, 8]\n",
    "y = [1, 4, 9, 16, 25, 36, 49, 64]\n",
    "\n",
    "# plot the line\n",
    "plt.plot(x, y)"
   ]
  },
  {
   "cell_type": "code",
   "execution_count": null,
   "metadata": {},
   "outputs": [],
   "source": [
    "# create a new figure\n",
    "plt.figure()\n",
    "\n",
    "# create a list of observations\n",
    "observations = [5.24, 3.82, 3.73, 5.3 , 3.93, 5.32, 6.43, 4.4 , 5.79, 4.05, 5.34, 5.62, 6.02, 6.08, 6.39, 5.03, 5.34, 4.98, 3.84, 4.91, 6.62, 4.66, 5.06, 2.37, 5.  , 3.7 , 5.22, 5.86, 3.88, 4.68, 4.88, 5.01, 3.09, 5.38, 4.78, 6.26, 6.29, 5.77, 4.33, 5.96, 4.74, 4.54, 7.99, 5.  , 4.85, 5.68, 3.73, 4.42, 4.99, 4.47, 6.06, 5.88, 4.56, 5.37, 6.39, 4.15]\n",
    "\n",
    "# create a histogram with 15 intervals\n",
    "plt.hist(observations, bins=15)"
   ]
  },
  {
   "cell_type": "code",
   "execution_count": null,
   "metadata": {},
   "outputs": [],
   "source": [
    "# create a new figure \n",
    "plt.figure()\n",
    "\n",
    "# plot a red line with a transparancy of 40%. Label this 'line 1'\n",
    "plt.plot(x, y, color='red', alpha=0.4, label='line 1')\n",
    "\n",
    "# make a key appear on the plot\n",
    "plt.legend()"
   ]
  },
  {
   "cell_type": "code",
   "execution_count": null,
   "metadata": {},
   "outputs": [],
   "source": [
    "# import pandas\n",
    "import pandas as pd\n",
    "\n",
    "# read in data from a csv\n",
    "data = pd.read_csv('data/weather.csv', parse_dates=['Date'])\n",
    "\n",
    "# create a new matplotlib figure\n",
    "plt.figure()\n",
    "\n",
    "# plot the temperature over time\n",
    "plt.plot(data['Date'], data['Temp (C)'])\n",
    "\n",
    "# add a ylabel \n",
    "plt.ylabel('Temperature (C)')"
   ]
  },
  {
   "cell_type": "code",
   "execution_count": null,
   "metadata": {
    "scrolled": false
   },
   "outputs": [],
   "source": [
    "plt.figure()\n",
    "\n",
    "# create inputs\n",
    "x = ['UK', 'France', 'Germany', 'Spain', 'Italy']\n",
    "y = [67.5, 65.1, 83.5, 46.7, 60.6]\n",
    "\n",
    "# plot the chart\n",
    "plt.bar(x, y)\n",
    "plt.ylabel('Population (M)')"
   ]
  },
  {
   "cell_type": "code",
   "execution_count": null,
   "metadata": {},
   "outputs": [],
   "source": [
    "plt.figure()\n",
    "\n",
    "# create inputs\n",
    "x = ['UK', 'France', 'Germany', 'Spain', 'Italy']\n",
    "y = [67.5, 65.1, 83.5, 46.7, 60.6]\n",
    "\n",
    "# create a list of colours\n",
    "colour = ['red', 'green', 'blue', 'orange', 'purple']\n",
    "\n",
    "# plot the chart with the colors and transparancy\n",
    "plt.bar(x, y, color=colour, alpha=0.5)\n",
    "plt.ylabel('Population (M)')"
   ]
  },
  {
   "cell_type": "code",
   "execution_count": null,
   "metadata": {},
   "outputs": [],
   "source": [
    "plt.figure()\n",
    "\n",
    "x = [1, 2, 3, 4, 5, 6, 7, 8, 9]\n",
    "y1 = [2, 4, 6, 8, 10, 12, 14, 16, 18]\n",
    "y2 = [4, 8, 12, 16, 20, 24, 28, 32, 36]\n",
    "\n",
    "plt.scatter(x, y1, color='cyan', s=5)\n",
    "plt.scatter(x, y2, color='violet', s=15)"
   ]
  },
  {
   "cell_type": "code",
   "execution_count": null,
   "metadata": {},
   "outputs": [],
   "source": [
    "plt.figure()\n",
    "\n",
    "x = [1, 2, 3, 4, 5, 6, 7, 8, 9]\n",
    "y1 = [2, 4, 6, 8, 10, 12, 14, 16, 18]\n",
    "y2 = [4, 8, 12, 16, 20, 24, 28, 32, 36]\n",
    "size1 = [10, 20, 30, 40, 50, 60, 70, 80, 90]\n",
    "size2 = [90, 80, 70, 60, 50, 40, 30, 20, 10]\n",
    "\n",
    "plt.scatter(x, y1, color='cyan', s=size1)\n",
    "plt.scatter(x, y2, color='violet', s=size2)"
   ]
  },
  {
   "cell_type": "code",
   "execution_count": null,
   "metadata": {},
   "outputs": [],
   "source": [
    "co2_file = '../5. Examples of Visual Analytics in Python/data/national/co2_emissions_tonnes_per_person.csv'\n",
    "gdp_file = '../5. Examples of Visual Analytics in Python/data/national/gdppercapita_us_inflation_adjusted.csv'\n",
    "pop_file = '../5. Examples of Visual Analytics in Python/data/national/population.csv'\n",
    "\n",
    "co2_per_cap = pd.read_csv(co2_file, index_col=0, parse_dates=True)\n",
    "gdp_per_cap = pd.read_csv(gdp_file, index_col=0, parse_dates=True)\n",
    "population = pd.read_csv(pop_file, index_col=0, parse_dates=True)"
   ]
  },
  {
   "cell_type": "code",
   "execution_count": null,
   "metadata": {},
   "outputs": [],
   "source": [
    "plt.figure()\n",
    "\n",
    "x = gdp_per_cap.loc['2017']     # gdp in 2017\n",
    "y = co2_per_cap.loc['2017']  # co2 emmissions in 2017\n",
    "\n",
    "# population in 2017 will give size of points (divide pop by 1M)\n",
    "size = population.loc['2017'] / 1e6\n",
    "\n",
    "# scatter points with vector size and some transparancy\n",
    "plt.scatter(x, y, s=size, alpha=0.5)\n",
    "\n",
    "# set a log-scale\n",
    "plt.xscale('log')\n",
    "plt.yscale('log')\n",
    "\n",
    "plt.xlabel('GDP per capita, $US')\n",
    "plt.ylabel('CO2 emissions per person per year, tonnes')"
   ]
  },
  {
   "cell_type": "code",
   "execution_count": null,
   "metadata": {},
   "outputs": [],
   "source": [
    "plt.figure()\n",
    "\n",
    "# create grid of numbers\n",
    "grid = [[1, 2, 3], \n",
    "        [4, 5, 6], \n",
    "        [7, 8, 9]]\n",
    "\n",
    "# plot the grid with 'autumn' color map\n",
    "plt.imshow(grid, cmap='autumn')\n",
    "\n",
    "# add a colour key\n",
    "plt.colorbar()"
   ]
  },
  {
   "cell_type": "code",
   "execution_count": null,
   "metadata": {},
   "outputs": [],
   "source": [
    "data = pd.read_csv(\"../5. Examples of Visual Analytics in Python/data/stocks/FTSE_stock_prices.csv\", index_col=0)\n",
    "correlation_matrix = data.pct_change().corr()\n",
    "\n",
    "# create a new figure\n",
    "plt.figure()\n",
    "\n",
    "# imshow the grid of correlation\n",
    "plt.imshow(correlation_matrix, cmap='terrain')\n",
    "\n",
    "# add a color bar \n",
    "plt.colorbar()\n",
    "\n",
    "# remove cluttering x and y ticks\n",
    "plt.xticks([])\n",
    "plt.yticks([])"
   ]
  },
  {
   "cell_type": "code",
   "execution_count": null,
   "metadata": {},
   "outputs": [],
   "source": [
    "elevation = pd.read_csv('data/UK_elevation.csv', index_col=0)"
   ]
  },
  {
   "cell_type": "code",
   "execution_count": null,
   "metadata": {},
   "outputs": [],
   "source": [
    "# create figure\n",
    "plt.figure()\n",
    "\n",
    "# imshow data\n",
    "plt.imshow(elevation,                # grid data\n",
    "           vmin=-50,                 # minimum for colour bar\n",
    "           vmax=500,                 # maximum for colour bar\n",
    "           cmap='terrain',           # terrain style colour map\n",
    "           extent=[-11, 3, 50, 60])  # [x1, x2, y1, y2] plot boundaries\n",
    "\n",
    "# add axis labels and a title\n",
    "plt.xlabel('Longitude')\n",
    "plt.ylabel('Latitude')\n",
    "plt.title('UK Elevation Profile')\n",
    "\n",
    "# add a colourbar\n",
    "plt.colorbar()"
   ]
  },
  {
   "cell_type": "code",
   "execution_count": null,
   "metadata": {},
   "outputs": [],
   "source": []
  }
 ],
 "metadata": {
  "kernelspec": {
   "display_name": "Python 3",
   "language": "python",
   "name": "python3"
  },
  "language_info": {
   "codemirror_mode": {
    "name": "ipython",
    "version": 3
   },
   "file_extension": ".py",
   "mimetype": "text/x-python",
   "name": "python",
   "nbconvert_exporter": "python",
   "pygments_lexer": "ipython3",
   "version": "3.7.3"
  }
 },
 "nbformat": 4,
 "nbformat_minor": 4
}
