{
 "cells": [
  {
   "cell_type": "markdown",
   "metadata": {},
   "source": [
    "# 6. Advanced Visualisation tools\n",
    "\n",
    "![](images/logo.png)\n",
    "\n",
    "Hello and welcome to session 6 of the Visual Analytics with Python and Power BI, hosted by the DataKirk. Once again, this session is about visualisation tools available in Python, with the module Matplotlib. \n",
    "\n",
    "If you're working on the server at https://jupyterhub.thedatakirk.org.uk/ then all the relevant libraries (Matplotlib, Pandas etc) should already be installed and ready to use. However, if you're running the code on your own computer (which we do advise at this point as it will accelerate your learning!) then you'll need to make sure that you have installed them. This can be done by opening up a command prompt and typing \n",
    "\n",
    "```\n",
    "pip install matplotlib pandas\n",
    "```\n",
    "\n",
    "To check whether you have these libraries installed, run the cell below."
   ]
  },
  {
   "cell_type": "code",
   "execution_count": 1,
   "metadata": {},
   "outputs": [],
   "source": [
    "import pandas as pd\n",
    "import matplotlib.pyplot as plt"
   ]
  },
  {
   "cell_type": "markdown",
   "metadata": {},
   "source": [
    "As long as you get no errors, you are good to go! Once the libraries are imported, it's also a good idea to run the line in the cell below:"
   ]
  },
  {
   "cell_type": "code",
   "execution_count": 2,
   "metadata": {},
   "outputs": [],
   "source": [
    "%matplotlib notebook"
   ]
  },
  {
   "cell_type": "markdown",
   "metadata": {},
   "source": [
    "The will make all Matplotlib plots interactive so you can pan, zoom and move around within the figure. Once you have run this cell you should see these options at the bottom of every plot:\n",
    "\n",
    "![](images/mplnb.png)\n",
    "\n",
    "If you don't see them when you begin plotting, try going back and running the cell above again. \n",
    "\n",
    "Here are some useful links for the session:\n",
    "\n",
    "1. List of matplotlib colours: https://matplotlib.org/3.1.0/gallery/color/named_colors.html\n",
    "2. Google colour picker: https://www.google.com/search?q=color+picker\n",
    "\n",
    "\n",
    "Like last time, this notebook is more or less a blank canvas for you to experiment with different visualisations. Here, you will find the code to load in various different pandas dataframes. It is you decision how you would like to proceed from there. Some tips:\n",
    "\n",
    "1. Always start each new visualisation with `plt.figure()`\n",
    "2. To plot a single column against the dataframe index, try `plt.plot(df.index, df['column name])`. \n",
    "3. Two columns can be scattered against each other via `plt.scatter(df['col 1'], df['col 2'])`\n",
    "\n",
    "\n",
    "# 1. Coronavirus data UK\n",
    "\n",
    "The first dataset contains information about the spread of coronavirus in Scotland, England, Wales and Northern Ireland. \n",
    "\n",
    "Potential analysis suggestions: \n",
    "\n",
    "1. To what extent are caseloads correlated amongst the four nations? \n",
    "2. What aspects are the same and different about the first and second wave? \n",
    "3. How are the different nations comparing in the fight against covid? "
   ]
  },
  {
   "cell_type": "code",
   "execution_count": 4,
   "metadata": {},
   "outputs": [],
   "source": [
    "data_sco = pd.read_csv('../5. Examples of Visual Analytics in Python/data/covid/Corona_Scot.csv', index_col=0, parse_dates=True)\n",
    "\n",
    "data_wal = pd.read_csv('../5. Examples of Visual Analytics in Python/data/covid/Corona_Wales.csv', index_col=0, parse_dates=True)\n",
    "\n",
    "data_eng = pd.read_csv('../5. Examples of Visual Analytics in Python/data/covid/Corona_Eng.csv', index_col=0, parse_dates=True)\n",
    "\n",
    "data_nir = pd.read_csv('../5. Examples of Visual Analytics in Python/data/covid/Corona_NI.csv', index_col=0, parse_dates=True)"
   ]
  },
  {
   "cell_type": "code",
   "execution_count": null,
   "metadata": {},
   "outputs": [],
   "source": []
  },
  {
   "cell_type": "markdown",
   "metadata": {},
   "source": [
    "# 2. Stock price data\n",
    "\n",
    "The second dataset contains stock price information since 2012 for the largest 20 companies listed in the United Kingdom:\n",
    "\n",
    "Potential analysis suggestions: \n",
    "\n",
    "1. How has coronavirus affected the stock market in the UK?\n",
    "2. How correlated are stocks in the UK?\n",
    "3. Which stocks are the biggest winners and the biggest losers in the last 8 years?"
   ]
  },
  {
   "cell_type": "code",
   "execution_count": 7,
   "metadata": {},
   "outputs": [],
   "source": [
    "price_data = pd.read_csv('../5. Examples of Visual Analytics in Python/data/stocks/FTSE_stock_prices.csv', index_col='Date', parse_dates=True)\n",
    "\n",
    "company_info = pd.read_csv('../5. Examples of Visual Analytics in Python/data/stocks/companies.csv')"
   ]
  },
  {
   "cell_type": "code",
   "execution_count": null,
   "metadata": {},
   "outputs": [],
   "source": []
  },
  {
   "cell_type": "markdown",
   "metadata": {},
   "source": [
    "# 3. Income, Inequality and Environment\n",
    "\n",
    "The third dataset contains annual data for GDP, inequality and carbon emissions for 192 countries around the world. \n",
    "\n",
    "Potential analysis suggestions: \n",
    "\n",
    "1. What is the relation between GDP and carbon emissions?\n",
    "2. What trends in time can you identify?\n",
    "3. Is there a relation between carbon emissions and inequality? \n",
    "\n",
    "Helpful hint: \n",
    "\n",
    "Sometimes is can be helpful to set the scale of an axis to logarithmic - this can be done by calling \n",
    "\n",
    "```python\n",
    "plt.xscale('log')\n",
    "```\n",
    "\n",
    "or \n",
    "\n",
    "```python\n",
    "plt.yscale('log')\n",
    "```"
   ]
  },
  {
   "cell_type": "code",
   "execution_count": 19,
   "metadata": {},
   "outputs": [],
   "source": [
    "population = pd.read_csv('../5. Examples of Visual Analytics in Python/data/national/population.csv', index_col=0, parse_dates=True)\n",
    "\n",
    "co2_per_cap = pd.read_csv('../5. Examples of Visual Analytics in Python/data/national/co2_emissions_tonnes_per_person.csv', index_col=0, parse_dates=True)\n",
    "\n",
    "gdp_per_cap = pd.read_csv('../5. Examples of Visual Analytics in Python/data/national/gdppercapita_us_inflation_adjusted.csv', index_col=0, parse_dates=True)\n",
    "\n",
    "inequality_metric = pd.read_csv('../5. Examples of Visual Analytics in Python/data/national/gini.csv', index_col=0, parse_dates=True)"
   ]
  },
  {
   "cell_type": "code",
   "execution_count": null,
   "metadata": {},
   "outputs": [],
   "source": []
  },
  {
   "cell_type": "markdown",
   "metadata": {},
   "source": [
    "## UK Geographical Data\n",
    "\n",
    "The final dataset contains the elevation profile of the UK and the coordinates of around 50 of the most populated cities. \n",
    "\n",
    "Potential analysis:\n",
    "\n",
    "1. Can you use `imshow` to view the elevation profile?\n",
    "2. Where are the population centres of the UK?\n",
    "3. Can you scatter the cities over the elevation profile?"
   ]
  },
  {
   "cell_type": "code",
   "execution_count": 17,
   "metadata": {},
   "outputs": [],
   "source": [
    "cities = pd.read_csv('data/UK_cities.csv', index_col=0)\n",
    "elevation = pd.read_csv('data/UK_elevation.csv', index_col=0)"
   ]
  },
  {
   "cell_type": "code",
   "execution_count": null,
   "metadata": {},
   "outputs": [],
   "source": []
  }
 ],
 "metadata": {
  "kernelspec": {
   "display_name": "Python 3",
   "language": "python",
   "name": "python3"
  },
  "language_info": {
   "codemirror_mode": {
    "name": "ipython",
    "version": 3
   },
   "file_extension": ".py",
   "mimetype": "text/x-python",
   "name": "python",
   "nbconvert_exporter": "python",
   "pygments_lexer": "ipython3",
   "version": "3.7.3"
  }
 },
 "nbformat": 4,
 "nbformat_minor": 2
}
